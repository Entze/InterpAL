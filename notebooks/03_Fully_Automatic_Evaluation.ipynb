{
 "cells": [
  {
   "cell_type": "code",
   "execution_count": null,
   "metadata": {
    "collapsed": true
   },
   "outputs": [],
   "source": []
  },
  {
   "cell_type": "code",
   "execution_count": 1,
   "outputs": [],
   "source": [
    "from clingo import Control\n",
    "from action_language_interpreter.util import solve\n",
    "from action_language_interpreter.action_language import from_clingo_symbols, FluentLiteral"
   ],
   "metadata": {
    "collapsed": false,
    "pycharm": {
     "name": "#%%\n"
    }
   }
  },
  {
   "cell_type": "code",
   "execution_count": 2,
   "outputs": [
    {
     "name": "stdout",
     "output_type": "stream",
     "text": [
      "Answer  1: { battery(0) battery(1) position(1) position(2) position(3) causes(move,battery(0),battery(1)) causes(move,position(2),position(1)) causes(move,position(3),position(2)) }.\n",
      "SAT 1 \n"
     ]
    }
   ],
   "source": [
    "robot = \"\"\"\n",
    "\n",
    "causes(move, battery(B-1), battery(B)) :- battery(B), battery(B-1).\n",
    "causes(move, position(P+1), position(P)) :- position(P), position(P+1).\n",
    "\n",
    "position(1..3).\n",
    "battery(0..1).\n",
    "\n",
    "\"\"\"\n",
    "\n",
    "answer_sets = solve(robot)"
   ],
   "metadata": {
    "collapsed": false,
    "pycharm": {
     "name": "#%%\n"
    }
   }
  },
  {
   "cell_type": "code",
   "execution_count": 3,
   "outputs": [
    {
     "data": {
      "text/plain": "[{Function('battery', [Number(0)], True),\n  Function('battery', [Number(1)], True),\n  Function('position', [Number(1)], True),\n  Function('position', [Number(2)], True),\n  Function('position', [Number(3)], True),\n  Function('causes', [Function('move', [], True), Function('battery', [Number(0)], True), Function('battery', [Number(1)], True)], True),\n  Function('causes', [Function('move', [], True), Function('position', [Number(2)], True), Function('position', [Number(1)], True)], True),\n  Function('causes', [Function('move', [], True), Function('position', [Number(3)], True), Function('position', [Number(2)], True)], True)}]"
     },
     "execution_count": 3,
     "metadata": {},
     "output_type": "execute_result"
    }
   ],
   "source": [
    "answer_sets"
   ],
   "metadata": {
    "collapsed": false,
    "pycharm": {
     "name": "#%%\n"
    }
   }
  },
  {
   "cell_type": "code",
   "execution_count": 4,
   "outputs": [],
   "source": [
    "AD = from_clingo_symbols(answer_sets[0])"
   ],
   "metadata": {
    "collapsed": false,
    "pycharm": {
     "name": "#%%\n"
    }
   }
  },
  {
   "cell_type": "code",
   "execution_count": 5,
   "outputs": [
    {
     "data": {
      "text/plain": "({move causes position(2) if position(1), move causes position(3) if position(2), move causes battery(0) if battery(1)}, set(), set())"
     },
     "execution_count": 5,
     "metadata": {},
     "output_type": "execute_result"
    }
   ],
   "source": [
    "AD"
   ],
   "metadata": {
    "collapsed": false,
    "pycharm": {
     "name": "#%%\n"
    }
   }
  },
  {
   "cell_type": "code",
   "execution_count": 6,
   "outputs": [
    {
     "data": {
      "text/plain": "({battery(0), battery(1), position(1), position(2)},\n [move causes position(2) if position(1),\n  move causes battery(0) if battery(1)])"
     },
     "execution_count": 6,
     "metadata": {},
     "output_type": "execute_result"
    }
   ],
   "source": [
    "AD.execute({FluentLiteral(\"battery(1)\"), FluentLiteral(\"position(1)\")}, 'move')"
   ],
   "metadata": {
    "collapsed": false,
    "pycharm": {
     "name": "#%%\n"
    }
   }
  },
  {
   "cell_type": "code",
   "execution_count": 7,
   "outputs": [],
   "source": [
    "instance = \"\"\"\n",
    "\n",
    "causes(move,position(2),position(1)).\n",
    "causes(move,position(3),position(2)).\n",
    "causes(move,battery(0),battery(1)).\n",
    "\n",
    "\"\"\""
   ],
   "metadata": {
    "collapsed": false,
    "pycharm": {
     "name": "#%%\n"
    }
   }
  },
  {
   "cell_type": "code",
   "execution_count": 8,
   "outputs": [],
   "source": [
    "trace = \"\"\"\n",
    "\n",
    "holds_at(position(1), 1).\n",
    "holds_at(battery(1), 1).\n",
    "occurs_at(move, 1).\n",
    "holds_at(position(2), 2).\n",
    "holds_at(battery(0), 2).\n",
    "\n",
    "outcome(position(2)).\n",
    "\n",
    "\"\"\""
   ],
   "metadata": {
    "collapsed": false,
    "pycharm": {
     "name": "#%%\n"
    }
   }
  },
  {
   "cell_type": "code",
   "execution_count": 9,
   "outputs": [],
   "source": [
    "explanation_first = \"\"\"\n",
    "\n",
    "outcome(position(2)).\n",
    "\n",
    "event_directEffects_at(move, position(2), 1).\n",
    "event_directEffects_at(move, battery(0), 1).\n",
    "\n",
    "# indirect effects empty\n",
    "\n",
    "firstCausalExplanationDirectEffects(Effect) :- event_directEffects_at(Event, Effect, T), outcome(Effect).\n",
    "\n",
    "\"\"\""
   ],
   "metadata": {
    "collapsed": false,
    "pycharm": {
     "name": "#%%\n"
    }
   }
  },
  {
   "cell_type": "code",
   "execution_count": 10,
   "outputs": [],
   "source": [
    "explanation_second = \"\"\"\n",
    "\n",
    "remainingOutcomeLiterals(Lit) :- not outcome(Lit), holds_at(Lit, O).\n",
    "\n",
    "\"\"\""
   ],
   "metadata": {
    "collapsed": false,
    "pycharm": {
     "name": "#%%\n"
    }
   }
  },
  {
   "cell_type": "code",
   "execution_count": 11,
   "outputs": [],
   "source": [
    "explanation_third = \"\"\"\n",
    "\n",
    "\n",
    "\"\"\""
   ],
   "metadata": {
    "collapsed": false,
    "pycharm": {
     "name": "#%%\n"
    }
   }
  }
 ],
 "metadata": {
  "kernelspec": {
   "display_name": "Python 3",
   "language": "python",
   "name": "python3"
  },
  "language_info": {
   "codemirror_mode": {
    "name": "ipython",
    "version": 2
   },
   "file_extension": ".py",
   "mimetype": "text/x-python",
   "name": "python",
   "nbconvert_exporter": "python",
   "pygments_lexer": "ipython2",
   "version": "2.7.6"
  }
 },
 "nbformat": 4,
 "nbformat_minor": 0
}