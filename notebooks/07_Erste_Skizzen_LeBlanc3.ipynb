{
 "cells": [
  {
   "cell_type": "code",
   "execution_count": 1,
   "outputs": [],
   "source": [
    "from action_language_interpreter.util import solve"
   ],
   "metadata": {
    "collapsed": false,
    "pycharm": {
     "name": "#%%\n"
    }
   }
  },
  {
   "cell_type": "code",
   "execution_count": 2,
   "outputs": [],
   "source": [
    "time_starts_at_0_axiom = \"\"\"\n",
    "time(0).\n",
    "\"\"\""
   ],
   "metadata": {
    "collapsed": false,
    "pycharm": {
     "name": "#%%\n"
    }
   }
  },
  {
   "cell_type": "code",
   "execution_count": 3,
   "outputs": [],
   "source": [
    "condition_axioms = \"\"\"\n",
    "conditionFails_at(C, T) :- fluent(F), time(T), condition_fluent(C, F), not pos_at(F, T).\n",
    "conditionFails_at(C, T) :- fluent(F), time(T), condition_fluent(C, -F), not neg_at(F, T).\n",
    "conditionFails_at(C, T) :- fluent(F), time(T), condition_fluent(C, unk(F)), not unk_at(F, T).\n",
    "\"\"\""
   ],
   "metadata": {
    "collapsed": false,
    "pycharm": {
     "name": "#%%\n"
    }
   }
  },
  {
   "cell_type": "code",
   "execution_count": 4,
   "outputs": [],
   "source": [
    "causes_axioms = \"\"\"\n",
    "% E causes F if C*\n",
    "pos_at(F, T+1) :- event(E), fluent(F), time(T), event_causes_if(E, F, C), occ_at(E, T), not conditionFails_at(C, T).\n",
    "neg_at(F, T+1) :- event(E), fluent(F), time(T), event_causes_if(E, -F, C), occ_at(E, T), not conditionFails_at(C, T).\n",
    "unk_at(F, T+1) :- event(E), fluent(F), time(T), event_causes_if(E, unk(F), C), occ_at(E, T), not conditionFails_at(C, T).\n",
    "\"\"\""
   ],
   "metadata": {
    "collapsed": false,
    "pycharm": {
     "name": "#%%\n"
    }
   }
  },
  {
   "cell_type": "code",
   "execution_count": 5,
   "outputs": [],
   "source": [
    "impossible_if_axiom = \"\"\"\n",
    "% E impossible_if C*\n",
    ":- event(E), time(T), eventImpossible_if(E, C), occ_at(E, T), not conditionFails_at(C, T).\n",
    "\"\"\""
   ],
   "metadata": {
    "collapsed": false,
    "pycharm": {
     "name": "#%%\n"
    }
   }
  },
  {
   "cell_type": "code",
   "execution_count": 6,
   "outputs": [],
   "source": [
    "if_axioms = \"\"\"\n",
    "% F if C*\n",
    "pos_at(F, T) :- fluent(F), time(T), fluent_if(F, C), not conditionFails_at(C, T).\n",
    "neg_at(F, T) :- fluent(F), time(T), fluent_if(-F, C), not conditionFails_at(C, T).\n",
    "unk_at(F, T) :- fluent(F), time(T), fluent_if(unk(F), C), not conditionFails_at(C, T).\n",
    "\"\"\""
   ],
   "metadata": {
    "collapsed": false,
    "pycharm": {
     "name": "#%%\n"
    }
   }
  },
  {
   "cell_type": "code",
   "execution_count": 7,
   "outputs": [],
   "source": [
    "inertia_axioms = \"\"\"\n",
    "pos_at(F, T+1) :- fluent(F), time(T), time(T+1), pos_at(F, T), not neg_at(F, T+1), not unk_at(F, T+1).\n",
    "neg_at(F, T+1) :- fluent(F), time(T), time(T+1), neg_at(F, T), not pos_at(F, T+1), not unk_at(F, T+1).\n",
    "unk_at(F, T+1) :- fluent(F), time(T), time(T+1), unk_at(F, T), not pos_at(F, T+1), not neg_at(F, T+1).\n",
    "\"\"\""
   ],
   "metadata": {
    "collapsed": false,
    "pycharm": {
     "name": "#%%\n"
    }
   }
  },
  {
   "cell_type": "code",
   "execution_count": 8,
   "outputs": [],
   "source": [
    "consistency_axioms = \"\"\"\n",
    ":- fluent(F), time(T), pos_at(F, T), unk_at(F, T).\n",
    ":- fluent(F), time(T), neg_at(F, T), unk_at(F, T).\n",
    "\"\"\""
   ],
   "metadata": {
    "collapsed": false,
    "pycharm": {
     "name": "#%%\n"
    }
   }
  },
  {
   "cell_type": "code",
   "execution_count": 9,
   "outputs": [],
   "source": [
    "completion_g1_axiom = \"\"\"\n",
    "% g1\n",
    "pos_at(F, 0) :- fluent(F), init(F).\n",
    "neg_at(F, 0) :- fluent(F), init(-F).\n",
    "\"\"\""
   ],
   "metadata": {
    "collapsed": false,
    "pycharm": {
     "name": "#%%\n"
    }
   }
  },
  {
   "cell_type": "code",
   "execution_count": 10,
   "outputs": [],
   "source": [
    "completion_g2_axiom = \"\"\"\n",
    "% g2\n",
    "pos_at(F, 0) :- fluent(F), forced(F), default(F), not init(-F).\n",
    "1 { pos_at(F, 0); neg_at(F, 0) } 1 :- fluent(F), forced(F), not default(F), not init(F), not init(-F).\n",
    "\"\"\""
   ],
   "metadata": {
    "collapsed": false,
    "pycharm": {
     "name": "#%%\n"
    }
   }
  },
  {
   "cell_type": "code",
   "execution_count": 11,
   "outputs": [],
   "source": [
    "completion_g3_axiom = \"\"\"\n",
    "% g3\n",
    "neg_at(F, 0) :- fluent(F), default(F), not pos_at(F, 0).\n",
    "unk_at(F, 0) :- fluent(F), not default(F), not pos_at(F, 0), not neg_at(F, 0).\n",
    "\"\"\""
   ],
   "metadata": {
    "collapsed": false,
    "pycharm": {
     "name": "#%%\n"
    }
   }
  },
  {
   "cell_type": "code",
   "execution_count": 12,
   "outputs": [],
   "source": [
    "axioms = (time_starts_at_0_axiom, condition_axioms, causes_axioms, impossible_if_axiom, if_axioms, inertia_axioms, consistency_axioms, completion_g1_axiom, completion_g2_axiom, completion_g3_axiom)"
   ],
   "metadata": {
    "collapsed": false,
    "pycharm": {
     "name": "#%%\n"
    }
   }
  },
  {
   "cell_type": "code",
   "execution_count": 13,
   "outputs": [],
   "source": [
    "rules = \"\"\"\n",
    "\n",
    "% d  -> John went on a date\n",
    "% m  -> John is married\n",
    "% ab -> John is abnormal\n",
    "\n",
    "time(0..1).\n",
    "\n",
    "eventImpossible_if(d, 1).\n",
    "condition_fluent(1, m).\n",
    "condition_fluent(1, -ab).\n",
    "\n",
    "\"\"\""
   ],
   "metadata": {
    "collapsed": false,
    "pycharm": {
     "name": "#%%\n"
    }
   }
  },
  {
   "cell_type": "code",
   "execution_count": 14,
   "outputs": [],
   "source": [
    "events = \"\"\"\n",
    "\n",
    "event(d).\n",
    "\n",
    "\"\"\""
   ],
   "metadata": {
    "collapsed": false,
    "pycharm": {
     "name": "#%%\n"
    }
   }
  },
  {
   "cell_type": "code",
   "execution_count": 15,
   "outputs": [],
   "source": [
    "fluents = \"\"\"\n",
    "\n",
    "fluent(m).\n",
    "fluent(ab).\n",
    "\n",
    "\"\"\""
   ],
   "metadata": {
    "collapsed": false,
    "pycharm": {
     "name": "#%%\n"
    }
   }
  },
  {
   "cell_type": "code",
   "execution_count": 16,
   "outputs": [],
   "source": [
    "defaults = \"\"\"\n",
    "\n",
    "default(ab).\n",
    "\n",
    "\"\"\""
   ],
   "metadata": {
    "collapsed": false,
    "pycharm": {
     "name": "#%%\n"
    }
   }
  },
  {
   "cell_type": "code",
   "execution_count": 17,
   "outputs": [],
   "source": [
    "initial = \"\"\"\n",
    "\n",
    "% empty\n",
    "\n",
    "\"\"\""
   ],
   "metadata": {
    "collapsed": false,
    "pycharm": {
     "name": "#%%\n"
    }
   }
  },
  {
   "cell_type": "code",
   "execution_count": 18,
   "outputs": [],
   "source": [
    "action_sequence = \"\"\"\n",
    "\n",
    "occ_at(d, 0).\n",
    "\n",
    "\"\"\""
   ],
   "metadata": {
    "collapsed": false,
    "pycharm": {
     "name": "#%%\n"
    }
   }
  },
  {
   "cell_type": "code",
   "execution_count": 19,
   "outputs": [],
   "source": [
    "query = \"\"\"\n",
    "\n",
    "query(m).\n",
    "\n",
    "\"\"\""
   ],
   "metadata": {
    "collapsed": false,
    "pycharm": {
     "name": "#%%\n"
    }
   }
  },
  {
   "cell_type": "code",
   "execution_count": 20,
   "outputs": [],
   "source": [
    "with_defaults = \"\"\"\n",
    "\n",
    "inFluent(F) :- fluent(F).\n",
    "\n",
    "\"\"\""
   ],
   "metadata": {
    "collapsed": false,
    "pycharm": {
     "name": "#%%\n"
    }
   }
  },
  {
   "cell_type": "code",
   "execution_count": 21,
   "outputs": [],
   "source": [
    "without_defaults = \"\"\"\n",
    "\n",
    "inFluent(F) :- fluent(F), not default(F).\n",
    "\n",
    "\"\"\""
   ],
   "metadata": {
    "collapsed": false,
    "pycharm": {
     "name": "#%%\n"
    }
   }
  },
  {
   "cell_type": "code",
   "execution_count": 22,
   "outputs": [],
   "source": [
    "empty_inFluents = \"\"\"\n",
    "\n",
    "% empty\n",
    "\n",
    "\"\"\""
   ],
   "metadata": {
    "collapsed": false,
    "pycharm": {
     "name": "#%%\n"
    }
   }
  },
  {
   "cell_type": "code",
   "execution_count": 23,
   "outputs": [],
   "source": [
    "forced = \"\"\"\n",
    "\n",
    "forced(F) :- inFluent(F).\n",
    "\n",
    "\"\"\""
   ],
   "metadata": {
    "collapsed": false,
    "pycharm": {
     "name": "#%%\n"
    }
   }
  },
  {
   "cell_type": "code",
   "execution_count": 24,
   "outputs": [],
   "source": [
    "action_sequence_cross = \"\"\"\n",
    "\n",
    "split(F, T) :- occ_at(_, T), inFluent(F).\n",
    "\n",
    "\"\"\""
   ],
   "metadata": {
    "collapsed": false,
    "pycharm": {
     "name": "#%%\n"
    }
   }
  },
  {
   "cell_type": "markdown",
   "source": [
    "$ \\Pi_{AD}(I, \\mathcal{F} \\setminus \\mathcal{D}, \\aleph^{\\times}) $"
   ],
   "metadata": {
    "collapsed": false
   }
  },
  {
   "cell_type": "code",
   "execution_count": 25,
   "outputs": [
    {
     "name": "stdout",
     "output_type": "stream",
     "text": [
      "Answer  1: { default(ab) event(d) fluent(ab) fluent(m) forced(m) inFluent(m) time(0) time(1) conditionFails_at(1,0) conditionFails_at(1,1) condition_fluent(1,m) condition_fluent(1,-ab) eventImpossible_if(d,1) neg_at(ab,0) neg_at(ab,1) neg_at(m,0) neg_at(m,1) occ_at(d,0) split(m,0) }.\n",
      "SAT 1 \n"
     ]
    },
    {
     "name": "stderr",
     "output_type": "stream",
     "text": [
      "<block>:3:28-35: info: atom does not occur in any rule head:\n",
      "  init(F)\n",
      "\n",
      "<block>:3:37-52: info: atom does not occur in any rule head:\n",
      "  fluent_if(F,C)\n",
      "\n",
      "<block>:3:49-73: info: atom does not occur in any rule head:\n",
      "  event_causes_if(E,F,C)\n",
      "\n",
      "<block>:3:55-63: info: atom does not occur in any rule head:\n",
      "  init((-F))\n",
      "\n",
      "<block>:4:28-36: info: atom does not occur in any rule head:\n",
      "  init((-F))\n",
      "\n",
      "<block>:4:37-53: info: atom does not occur in any rule head:\n",
      "  fluent_if((-F),C)\n",
      "\n",
      "<block>:4:49-74: info: atom does not occur in any rule head:\n",
      "  event_causes_if(E,(-F),C)\n",
      "\n",
      "<block>:4:81-88: info: atom does not occur in any rule head:\n",
      "  init(F)\n",
      "\n",
      "<block>:4:94-102: info: atom does not occur in any rule head:\n",
      "  init((-F))\n",
      "\n",
      "<block>:5:37-57: info: atom does not occur in any rule head:\n",
      "  fluent_if(unk(F),C)\n",
      "\n",
      "<block>:5:49-78: info: atom does not occur in any rule head:\n",
      "  event_causes_if(E,unk(F),C)\n",
      "\n"
     ]
    }
   ],
   "source": [
    "solve([\n",
    "    *axioms,\n",
    "\n",
    "    rules,\n",
    "\n",
    "    events,\n",
    "    fluents,\n",
    "    defaults,\n",
    "    initial,\n",
    "    action_sequence,\n",
    "    without_defaults,\n",
    "    forced,\n",
    "    action_sequence_cross,\n",
    "\n",
    "], clingo_args=(\"--models\", \"0\", \"--enum-mode\", \"cautious\"));"
   ],
   "metadata": {
    "collapsed": false,
    "pycharm": {
     "name": "#%%\n"
    }
   }
  },
  {
   "cell_type": "code",
   "execution_count": 26,
   "outputs": [],
   "source": [
    "# Extracted from the top answer set\n",
    "R = \"\"\"\n",
    "\n",
    "neg_at(ab,0).\n",
    "neg_at(ab,1).\n",
    "neg_at(m,0).\n",
    "neg_at(m,1).\n",
    "\n",
    "\"\"\""
   ],
   "metadata": {
    "collapsed": false,
    "pycharm": {
     "name": "#%%\n"
    }
   }
  },
  {
   "cell_type": "markdown",
   "source": [
    " $ I' = I \\cup \\{l | \\{\\chi(l, 0), forced(f)\\} \\subseteq R \\land (l = f \\lor l = \\neg f )\\} $"
   ],
   "metadata": {
    "collapsed": false
   }
  },
  {
   "cell_type": "code",
   "execution_count": 27,
   "outputs": [],
   "source": [
    "forced_initial = \"\"\"\n",
    "\n",
    "init(F) :- fluent(F), pos_at(F, 0), forced(F).\n",
    "init(-F) :- fluent(F), neg_at(F, 0), forced(F).\n",
    "\n",
    "\"\"\""
   ],
   "metadata": {
    "collapsed": false,
    "pycharm": {
     "name": "#%%\n"
    }
   }
  },
  {
   "cell_type": "code",
   "execution_count": 29,
   "outputs": [],
   "source": [
    "candidates = \"\"\"\n",
    "\n",
    ":- time(T), T = #max { T : occ_at(E, T), event(E) }, query(Q), not pos_at(Q, T+1), not neg_at(Q, T+1).\n",
    "\n",
    "\"\"\""
   ],
   "metadata": {
    "collapsed": false,
    "pycharm": {
     "name": "#%%\n"
    }
   }
  },
  {
   "cell_type": "markdown",
   "source": [
    "For every answerset A of $ \\Pi_{AD}(I', \\emptyset, \\aleph^?) $\n",
    "such that\n",
    "$ \\{ \\chi(\\mathbb{q}, k+1), \\chi(\\neg\\mathbb{q}, k+1) \\} \\cap A \\neq \\emptyset $"
   ],
   "metadata": {
    "collapsed": false
   }
  },
  {
   "cell_type": "code",
   "execution_count": 30,
   "outputs": [
    {
     "name": "stdout",
     "output_type": "stream",
     "text": [
      "Answer  1: { default(ab) event(d) fluent(ab) fluent(m) query(m) time(0) time(1) conditionFails_at(1,0) conditionFails_at(1,1) condition_fluent(1,m) condition_fluent(1,-ab) eventImpossible_if(d,1) neg_at(ab,0) neg_at(ab,1) neg_at(m,0) neg_at(m,1) occ_at(d,0) }.\n",
      "SAT 1 \n"
     ]
    },
    {
     "name": "stderr",
     "output_type": "stream",
     "text": [
      "<block>:3:24-25: info: global variable in tuple of aggregate element:\n",
      "  T\n",
      "\n",
      "<block>:3:14-25: info: atom does not occur in any rule head:\n",
      "  inFluent(F)\n",
      "\n",
      "<block>:3:37-52: info: atom does not occur in any rule head:\n",
      "  fluent_if(F,C)\n",
      "\n",
      "<block>:3:49-73: info: atom does not occur in any rule head:\n",
      "  event_causes_if(E,F,C)\n",
      "\n",
      "<block>:4:37-53: info: atom does not occur in any rule head:\n",
      "  fluent_if((-F),C)\n",
      "\n",
      "<block>:4:49-74: info: atom does not occur in any rule head:\n",
      "  event_causes_if(E,(-F),C)\n",
      "\n",
      "<block>:5:37-57: info: atom does not occur in any rule head:\n",
      "  fluent_if(unk(F),C)\n",
      "\n",
      "<block>:5:49-78: info: atom does not occur in any rule head:\n",
      "  event_causes_if(E,unk(F),C)\n",
      "\n"
     ]
    }
   ],
   "source": [
    "solve([\n",
    "    *axioms,\n",
    "\n",
    "    rules,\n",
    "\n",
    "    events,\n",
    "    fluents,\n",
    "    defaults,\n",
    "    initial,\n",
    "    action_sequence,\n",
    "    empty_inFluents,\n",
    "    forced,\n",
    "\n",
    "    R,\n",
    "    forced_initial,\n",
    "    query,\n",
    "    candidates,\n",
    "\n",
    "]);"
   ],
   "metadata": {
    "collapsed": false,
    "pycharm": {
     "name": "#%%\n"
    }
   }
  },
  {
   "cell_type": "code",
   "execution_count": 28,
   "outputs": [],
   "source": [],
   "metadata": {
    "collapsed": false,
    "pycharm": {
     "name": "#%%\n"
    }
   }
  }
 ],
 "metadata": {
  "kernelspec": {
   "display_name": "Python 3",
   "language": "python",
   "name": "python3"
  },
  "language_info": {
   "codemirror_mode": {
    "name": "ipython",
    "version": 2
   },
   "file_extension": ".py",
   "mimetype": "text/x-python",
   "name": "python",
   "nbconvert_exporter": "python",
   "pygments_lexer": "ipython2",
   "version": "2.7.6"
  }
 },
 "nbformat": 4,
 "nbformat_minor": 0
}