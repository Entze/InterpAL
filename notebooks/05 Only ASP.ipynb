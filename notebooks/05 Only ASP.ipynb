{
 "cells": [
  {
   "cell_type": "code",
   "execution_count": 1,
   "id": "9ebfecca",
   "metadata": {},
   "outputs": [],
   "source": [
    "from clingo.symbol import Number, String\n",
    "from clingo.control import Control"
   ]
  },
  {
   "cell_type": "code",
   "execution_count": 2,
   "id": "d3fcb512",
   "metadata": {},
   "outputs": [],
   "source": [
    "def run(axioms):\n",
    "    evASP = Control(\"0\")\n",
    "    evASP.add(\"base\", [], axioms)\n",
    "\n",
    "    evASP.ground([(\"base\", [])])\n",
    "    \n",
    "    with evASP.solve(yield_=True) as handle:\n",
    "        #print(handle)\n",
    "        for m in handle: \n",
    "            print(\"Answer:\\n{}\\n\".format(m))"
   ]
  },
  {
   "cell_type": "code",
   "execution_count": 3,
   "id": "78cde927",
   "metadata": {},
   "outputs": [
    {
     "name": "stdout",
     "output_type": "stream",
     "text": [
      "Answer:\n",
      "bat(0) bat(1) causes(move,pos(2),pos(1)) causes(move,pos(3),pos(2)) causes(move,bat(0),bat(1)) pos(1) pos(2) pos(3)\n",
      "\n"
     ]
    }
   ],
   "source": [
    "code = \"\"\"\n",
    "\n",
    "causes(move, bat(B-1), bat(B)) :- bat(B), bat(B-1).\n",
    "causes(move, pos(P+1), pos(P)) :- pos(P), pos(P+1).\n",
    "\n",
    "pos(1..3).\n",
    "bat(0..1).\n",
    "\n",
    "\n",
    "\n",
    "\"\"\"\n",
    "\n",
    "run(code)"
   ]
  },
  {
   "cell_type": "code",
   "execution_count": 4,
   "id": "f4d57de5",
   "metadata": {},
   "outputs": [
    {
     "name": "stdout",
     "output_type": "stream",
     "text": [
      "Answer:\n",
      "causes(drinks(sokrates,hemlock),-isAlive(sokrates),3) causes(escapes(sokrates,prison),-inPrison(sokrates),2) causes(chargedWith(sokrates,impety),inPrison(sokrates),1)\n",
      "\n"
     ]
    }
   ],
   "source": [
    "sokrat = \"\"\"\n",
    "\n",
    "%%%%%%%%%%%%%%%%%%%%%%%%%%%%%%%%%%%%%%%%%%%%%%%%%%%%%%%%%%%%%%%%%%%%%%%%%%%%%%%%%%%%%%%%%%%%%%%%%%%%\n",
    "\n",
    "causes(chargedWith(X,Y), inPrison(X), 1) :- person(X), mistake(Y).\n",
    "\n",
    "causes(escapes(X, prison), -inPrison(X), 2) :- person(X).\n",
    "cond(2, inPrison(X)) :- person(X).\n",
    "\n",
    "causes(drinks(X,hemlock), -isAlive(X), 3) :- person(X).\n",
    "cond(3, isAlive(X)) :- person(X).\n",
    "\n",
    "impos(sentencedTo(X,Y), 4) :- person(X), sanction(Y).\n",
    "cond(4, -inPrison(X)) :- person(X).\n",
    "\n",
    "impos(walksOutside(X), 5) :- person(X).\n",
    "cond(5, inPrison(X)) :- person(X).\n",
    "\n",
    "mistake(impety).\n",
    "sanction(death).\n",
    "person(sokrates).\n",
    "\n",
    "%%%%%%%%%%%%%%%%%%%%%%%%%%%%%%%%%%%%%%%%%%%%%%%%%%%%%%%%%%%%%%%%%%%%%%%%%%%%%%%%%%%%%%%%%%%%%%%%%%%%\n",
    "\n",
    "#show holds/2.\n",
    "#show causes/3.\n",
    "\n",
    "\"\"\"\n",
    "\n",
    "#################\n",
    "meta = \"\"\"\n",
    "time(1..5).\n",
    "holds(Head, T+1) :- causes(Act, Head, Nr), not condNotHolds(Nr, T), time(T).\n",
    "condNotHolds(Nr, T) :- cond(Nr, Cond), not holds(Cond, T), time(T).\n",
    "\n",
    "%holds(F,T+1) :- holds(F,T), not holds(-F,T+1), time(T).\n",
    "%holds(-F,T+1) :- holds(-F,T), not holds(F, T+1).\n",
    "\n",
    "% :- holds(X, T), holds(-X,T).\n",
    "\n",
    "#show holds/2.\n",
    "\"\"\"\n",
    "#################\n",
    "\n",
    "\n",
    "run(sokrat)"
   ]
  },
  {
   "cell_type": "code",
   "execution_count": 5,
   "id": "b8c47d6e",
   "metadata": {
    "scrolled": true
   },
   "outputs": [
    {
     "name": "stdout",
     "output_type": "stream",
     "text": [
      "Answer:\n",
      "fluent(get(t)) holds(get(t)) holds(-get(t)) is no\n",
      "\n"
     ]
    }
   ],
   "source": [
    "run(\"\"\"\n",
    "\n",
    "fluent(get(t)).\n",
    "\n",
    "holds(get(t)).\n",
    "holds(-get(t)).\n",
    "\n",
    "is :- holds(X), fluent(X).\n",
    "no :- holds(X), holds(-X).\n",
    "\n",
    "\"\"\")"
   ]
  },
  {
   "cell_type": "code",
   "execution_count": 6,
   "id": "995d948c",
   "metadata": {},
   "outputs": [
    {
     "name": "stdout",
     "output_type": "stream",
     "text": [
      "Answer:\n",
      "time(1) time(2) time(3) time(4) impo(e1,5) impo(e3,10) impo(e3,11) cond(5,a) cond(12,c) cond(6,-e) cond(7,-d) cond(8,-a) cond(9,-c) cond(10,-e) cond(11,-f) caus(e1,e,6) caus(e2,d,7) caus(e3,a,8) caus(e3,c,9) if(b,12)\n",
      "\n"
     ]
    }
   ],
   "source": [
    "AD = \"\"\"\n",
    "\n",
    "impo(e1, 5).\n",
    "cond(5, a).\n",
    "\n",
    "caus(e1, e, 6).\n",
    "cond(6, -e).\n",
    "\n",
    "caus(e2, d, 7).\n",
    "cond(7, -d).\n",
    "\n",
    "caus(e3, a, 8).\n",
    "cond(8, -a).\n",
    "\n",
    "caus(e3, c, 9).\n",
    "cond(9, -c).\n",
    "\n",
    "impo(e3, 10).\n",
    "cond(10, -e).\n",
    "\n",
    "impo(e3, 11).\n",
    "cond(11, -f).\n",
    "\n",
    "if(b,12).\n",
    "cond(12, c).\n",
    "\n",
    "%%%%%%%%%%%%%%%%%%%%%%%%%%%%%%%%%%%%%%%%%%%%%%%%%%%%%%%%%%%%%%%%%%%%%%%%%%%%%%%%%%\n",
    "\n",
    "time(1..4).\n",
    "\n",
    "\n",
    "\"\"\"\n",
    "run(AD)"
   ]
  },
  {
   "cell_type": "code",
   "execution_count": 7,
   "id": "fb04d1fe",
   "metadata": {},
   "outputs": [
    {
     "name": "stdout",
     "output_type": "stream",
     "text": [
      "Answer:\n",
      "occ(e1,1) occ(e2,2) occ(e3,3) holds(-a,1) holds(-b,1) holds(-c,1) holds(-d,1) holds(-e,1) holds(f,1) holds(-a,2) holds(-b,2) holds(-c,2) holds(-d,2) holds(e,2) holds(f,2) holds(-a,3) holds(-b,3) holds(-c,3) holds(d,3) holds(e,3) holds(f,3) holds(a,4) holds(b,4) holds(c,4) holds(d,4) holds(e,4) holds(f,4)\n",
      "\n"
     ]
    }
   ],
   "source": [
    "scena = \"\"\"\n",
    "\n",
    "holds(-a,1; -b,1; -c,1; -d,1; -e,1; f,1).\n",
    "occ(e1, 1).\n",
    "\n",
    "holds(-a,2;-b,2;-c,2;-d,2;e,2;f,2).\n",
    "occ(e2,2).\n",
    "\n",
    "holds(-a,3;-b,3;-c,3;d,3;e,3;f,3). \n",
    "occ(e3,3). \n",
    "\n",
    "holds(a,4;b,4;c,4;d,4;e,4;f,4).\n",
    "\n",
    "\n",
    "\"\"\"\n",
    "run(scena)"
   ]
  },
  {
   "cell_type": "code",
   "execution_count": 8,
   "id": "777798c3",
   "metadata": {},
   "outputs": [
    {
     "name": "stdout",
     "output_type": "stream",
     "text": [
      "Answer:\n",
      "time(1) time(2) time(3) time(4) theta(a) theta(b) theta(c) theta(d) theta(e) theta(f) holds(-a,1) holds(-b,1) holds(-c,1) holds(-d,1) holds(-e,1) holds(f,1) holds(-a,2) holds(-b,2) holds(-c,2) holds(-d,2) holds(e,2) holds(f,2) holds(-a,3) holds(-b,3) holds(-c,3) holds(d,3) holds(e,3) holds(f,3) holds(a,4) holds(b,4) holds(c,4) holds(d,4) holds(e,4) holds(f,4) thetaNotSat(1) thetaNotSat(2) thetaNotSat(3) thetaSat(4) transit_ev(e3,3) occ(e1,1) occ(e2,2) occ(e3,3)\n",
      "\n"
     ]
    }
   ],
   "source": [
    "theta = \"\"\"\n",
    "time(1..4).\n",
    "\n",
    "% outcome\n",
    "theta(a;b;c;d;e;f).\n",
    "\n",
    "thetaNotSat(T) :- theta(X), not holds(X,T), time(T).\n",
    "thetaSat(T) :- not thetaNotSat(T), time(T).\n",
    "\n",
    "1{transit_ev(Ev,T)}1 :- occ(Ev, T), thetaNotSat(T), thetaSat(T+1).\n",
    "\n",
    "\"\"\"\n",
    "\n",
    "outcome_transit = scena+theta\n",
    "run(outcome_transit)"
   ]
  },
  {
   "cell_type": "code",
   "execution_count": 9,
   "id": "4da0f265",
   "metadata": {},
   "outputs": [
    {
     "name": "stdout",
     "output_type": "stream",
     "text": [
      "Answer:\n",
      "time(1) time(2) time(3) time(4) theta(a) theta(b) theta(c) theta(d) theta(e) theta(f) holds(-a,1) holds(-b,1) holds(-c,1) holds(-d,1) holds(-e,1) holds(f,1) holds(-a,2) holds(-b,2) holds(-c,2) holds(-d,2) holds(e,2) holds(f,2) holds(-a,3) holds(-b,3) holds(-c,3) holds(d,3) holds(e,3) holds(f,3) holds(a,4) holds(b,4) holds(c,4) holds(d,4) holds(e,4) holds(f,4) thetaNotSat(1) thetaNotSat(2) thetaNotSat(3) thetaSat(4) transit_ev(e3,3) occ(e1,1) occ(e2,2) occ(e3,3) id(5) id(6) id(7) id(8) id(9) id(10) id(11) id(12) condHold(6,1) condHold(7,1) condHold(8,1) condHold(9,1) condHold(10,1) condHold(7,2) condHold(8,2) condHold(9,2) condHold(8,3) condHold(9,3) condHold(5,4) condHold(12,4) caus(e1,e,6) caus(e2,d,7) caus(e3,a,8) caus(e3,c,9) gen_dir(e3,3,a) gen_dir(e3,3,c) cond(5,a) cond(12,c) cond(6,-e) cond(7,-d) cond(8,-a) cond(9,-c) cond(10,-e) cond(11,-f) condDontHold(5,1) condDontHold(5,2) condDontHold(5,3) condDontHold(12,1) condDontHold(12,2) condDontHold(12,3) condDontHold(6,2) condDontHold(6,3) condDontHold(6,4) condDontHold(7,3) condDontHold(7,4) condDontHold(8,4) condDontHold(9,4) condDontHold(10,2) condDontHold(10,3) condDontHold(10,4) condDontHold(11,1) condDontHold(11,2) condDontHold(11,3) condDontHold(11,4) out_dir_eff(e3,3,a) out_dir_eff(e3,3,c) directly_caused(e1,1,e) directly_caused(e2,2,d) directly_caused(e3,3,a) directly_caused(e3,3,c) directly_caused(e1,1,-a) directly_caused(e1,1,-b) directly_caused(e1,1,-c) directly_caused(e1,1,-d) directly_caused(e1,1,f) directly_caused(e2,2,-a) directly_caused(e2,2,-b) directly_caused(e2,2,-c) directly_caused(e2,2,e) directly_caused(e2,2,f) directly_caused(e3,3,d) directly_caused(e3,3,e) directly_caused(e3,3,f) ind_eff(e3,3,b) out_ind_eff(e3,3,b) impo(e1,5) impo(e3,10) impo(e3,11) if(b,12)\n",
      "\n"
     ]
    }
   ],
   "source": [
    "defs = \"\"\"\n",
    "time(1..4).\n",
    "id(5..12).\n",
    "\n",
    "gen_dir(Ev, T, Eff) :- occ(Ev, T), transit_ev(Ev,T), caus(Ev, Eff, Id), condHold(Id,T), id(Id).\n",
    "\n",
    "condDontHold(Id, T) :- cond(Id, Cond), not holds(Cond, T), time(T), id(Id).\n",
    "condHold(Id,T) :- not condDontHold(Id, T), time(T), id(Id).\n",
    "\n",
    "out_dir_eff(Ev, T, Eff) :- theta(Eff), gen_dir(Ev, T, Eff).\n",
    "\n",
    "%#show theta/1.\n",
    "%#show gen_dir/3.\n",
    "%#show out_dir_eff/3.\n",
    "\n",
    "\n",
    "directly_caused(Ev, T, Eff) :- occ(Ev, T), caus(Ev, Eff, Id), condHold(Id,T), id(Id).\n",
    "directly_caused(Ev, T, Eff) :- occ(Ev, T), holds(Eff, T), holds(Eff,T+1).\n",
    "ind_eff(Ev, T, Eff) :- occ(Ev,T), holds(Eff,T+1), not directly_caused(Ev, T, Eff), time(T).\n",
    "\n",
    "out_ind_eff(Ev, T, Eff) :- theta(Eff), ind_eff(Ev, T, Eff), transit_ev(Ev,T).\n",
    "\n",
    "%#show out_ind_eff/3.\n",
    "\n",
    "\"\"\"\n",
    "basis = outcome_transit+defs+AD\n",
    "run(basis)"
   ]
  },
  {
   "cell_type": "markdown",
   "id": "dd29b6a2",
   "metadata": {},
   "source": [
    "### 1st Causal Exp"
   ]
  },
  {
   "cell_type": "code",
   "execution_count": 10,
   "id": "b3508d61",
   "metadata": {},
   "outputs": [
    {
     "name": "stdout",
     "output_type": "stream",
     "text": [
      "Answer:\n",
      "out_dir_eff(e3,3,a) out_dir_eff(e3,3,c) out_ind_eff(e3,3,b)\n",
      "\n"
     ]
    }
   ],
   "source": [
    "first = \"\"\"\n",
    "\n",
    "\n",
    "#show out_dir_eff/3.\n",
    "#show out_ind_eff/3.\n",
    "\n",
    "\"\"\"\n",
    "run(first+basis)"
   ]
  },
  {
   "cell_type": "markdown",
   "id": "3d0a3335",
   "metadata": {},
   "source": [
    "### 2nd Causal Exp"
   ]
  },
  {
   "cell_type": "code",
   "execution_count": 21,
   "id": "96ce0f56",
   "metadata": {},
   "outputs": [
    {
     "name": "stdout",
     "output_type": "stream",
     "text": [
      "Answer:\n",
      "l_transit_ev(e,e1,1) l_transit_ev(d,e2,2) l_transit_ev(a,e3,3) l_transit_ev(b,e3,3) l_transit_ev(c,e3,3) step(3)\n",
      "\n"
     ]
    }
   ],
   "source": [
    "ensur_ev = \"\"\"\n",
    "\n",
    "l_transit_ev(Lit, Ev, T) :- occ(Ev,T), holds(Lit,T+1), not holds(Lit, T), time(T).\n",
    "\n",
    "1{step(X): time(X)}1.\n",
    "l_ensur_ev(Lit, Ev, T, T1) :- l_transit_ev(Lit, Ev, T1), T1 < T, time(T), step(T1).\n",
    "\n",
    ":~ step(X). [1@1, X, step]\n",
    "\n",
    "#show l_transit_ev/3.\n",
    "#show step/1.\n",
    "\"\"\"\n",
    "run(ensur_ev+basis)"
   ]
  },
  {
   "cell_type": "code",
   "execution_count": 33,
   "id": "ccadaeb6",
   "metadata": {},
   "outputs": [
    {
     "name": "stdout",
     "output_type": "stream",
     "text": [
      "Answer:\n",
      "remain_lit(e3,3,d) remain_lit(e3,3,e) remain_lit(e3,3,f)\n",
      "\n"
     ]
    }
   ],
   "source": [
    "outcome_sup = \"\"\"\n",
    "ev(Ev) :- occ(Ev,T), time(T).\n",
    "dir_ind_eff(Ev,T,Eff) :- out_dir_eff(Ev,T,Eff).\n",
    "dir_ind_eff(Ev,T,Eff) :- out_ind_eff(Ev,T,Eff).\n",
    "remain_lit(Ev,T,Eff) :- theta(Eff), occ(EV,T), transit_ev(Ev,T), not dir_ind_eff(Ev,T,Eff), time(T), ev(Ev).\n",
    "\n",
    "%#show dir_ind_eff/3.\n",
    "#show remain_lit/3.\n",
    "\"\"\"\n",
    "\n",
    "run(outcome_sup+basis)"
   ]
  },
  {
   "cell_type": "markdown",
   "id": "e995f271",
   "metadata": {},
   "source": [
    "### 3rd Causal Exp"
   ]
  },
  {
   "cell_type": "code",
   "execution_count": 43,
   "id": "3ff8e98b",
   "metadata": {},
   "outputs": [
    {
     "name": "stdout",
     "output_type": "stream",
     "text": [
      "Answer:\n",
      "prec(e1,-a) prec(e3,e) prec(e3,f) prec(e1,-e) prec(e2,-d) prec(e3,-a) prec(e3,-c)\n",
      "\n"
     ]
    }
   ],
   "source": [
    "prec = \"\"\"\n",
    "\n",
    "prec(Ev, Eff) :- caus(Ev,H,Id), cond(Id, Eff).\n",
    "prec(Ev, Eff) :- impo(Ev,Id), cond(Id, -Eff).\n",
    "\n",
    "#show prec/2.\n",
    "\n",
    "\"\"\"\n",
    "\n",
    "run(prec+AD)"
   ]
  },
  {
   "cell_type": "code",
   "execution_count": null,
   "id": "cfc338b7",
   "metadata": {},
   "outputs": [],
   "source": [
    "transit_sup = \"\"\"\n",
    "\n",
    "\n",
    "\n",
    "\"\"\""
   ]
  },
  {
   "cell_type": "code",
   "execution_count": null,
   "id": "07b3e51c",
   "metadata": {},
   "outputs": [],
   "source": [
    "run(\"\"\"\n",
    "\n",
    "\n",
    "\"\"\")"
   ]
  },
  {
   "cell_type": "code",
   "execution_count": 11,
   "id": "25393459",
   "metadata": {},
   "outputs": [
    {
     "name": "stdout",
     "output_type": "stream",
     "text": [
      "Answer:\n",
      "\n",
      "\n",
      "Answer:\n",
      "a\n",
      "\n",
      "Answer:\n",
      "b\n",
      "\n",
      "Answer:\n",
      "c\n",
      "\n"
     ]
    }
   ],
   "source": [
    "run(\"\"\"\n",
    "{a;b;c}1.\n",
    "\n",
    "\"\"\")"
   ]
  },
  {
   "cell_type": "code",
   "execution_count": null,
   "id": "63b05b55",
   "metadata": {},
   "outputs": [],
   "source": []
  }
 ],
 "metadata": {
  "kernelspec": {
   "display_name": "Python 3 (ipykernel)",
   "language": "python",
   "name": "python3"
  },
  "language_info": {
   "codemirror_mode": {
    "name": "ipython",
    "version": 3
   },
   "file_extension": ".py",
   "mimetype": "text/x-python",
   "name": "python",
   "nbconvert_exporter": "python",
   "pygments_lexer": "ipython3",
   "version": "3.10.4"
  }
 },
 "nbformat": 4,
 "nbformat_minor": 5
}
