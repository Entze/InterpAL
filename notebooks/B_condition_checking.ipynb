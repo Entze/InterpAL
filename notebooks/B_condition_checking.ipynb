{
 "cells": [
  {
   "cell_type": "code",
   "execution_count": 1,
   "metadata": {
    "collapsed": true
   },
   "outputs": [],
   "source": [
    "from action_language_interpreter.util import solve"
   ]
  },
  {
   "cell_type": "code",
   "execution_count": 2,
   "outputs": [],
   "source": [
    "\n",
    "example_1 = \"\"\"\n",
    "\n",
    "time(1..2).\n",
    "\n",
    "event_causes_if(e, a, 1).\n",
    "condition_fluent(1, b).\n",
    "condition_fluent(1, c).\n",
    "\n",
    "\"\"\""
   ],
   "metadata": {
    "collapsed": false,
    "pycharm": {
     "name": "#%%\n"
    }
   }
  },
  {
   "cell_type": "code",
   "execution_count": 3,
   "outputs": [],
   "source": [
    "axiom = \"\"\"\n",
    "\n",
    "conditionFails(C, T) :- time(T), condition_fluent(C, F), neg_at(F, T).\n",
    "conditionFails(C, T) :- time(T), condition_fluent(C, -F), pos_at(F, T).\n",
    "\n",
    "\n",
    "obs_at(F, T) :- event_causes_if(E, F, C), occ_at(E, T), not conditionFails(C, T).\n",
    "\n",
    "\"\"\""
   ],
   "metadata": {
    "collapsed": false,
    "pycharm": {
     "name": "#%%\n"
    }
   }
  },
  {
   "cell_type": "code",
   "execution_count": 4,
   "outputs": [],
   "source": [
    "instance_1 = \"\"\"\n",
    "\n",
    "occ_at(e, 1).\n",
    "pos_at(b, 1).\n",
    "pos_at(c, 1).\n",
    "\n",
    "\"\"\""
   ],
   "metadata": {
    "collapsed": false,
    "pycharm": {
     "name": "#%%\n"
    }
   }
  },
  {
   "cell_type": "code",
   "execution_count": 5,
   "outputs": [
    {
     "name": "stderr",
     "output_type": "stream",
     "text": [
      "<block>:3:1-85: error: unsafe variables in:\n",
      "  conditionFails(C,T):-[#inc_base];neg_at(F,T);condition_fluent(C,F);time(T);F!=unk(_F).\n",
      "<block>:3:67-69: note: '_F' is unsafe\n",
      "\n"
     ]
    },
    {
     "ename": "RuntimeError",
     "evalue": "grounding stopped because of errors",
     "output_type": "error",
     "traceback": [
      "\u001B[0;31m---------------------------------------------------------------------------\u001B[0m",
      "\u001B[0;31mRuntimeError\u001B[0m                              Traceback (most recent call last)",
      "Input \u001B[0;32mIn [5]\u001B[0m, in \u001B[0;36m<cell line: 2>\u001B[0;34m()\u001B[0m\n\u001B[1;32m      1\u001B[0m \u001B[38;5;66;03m# Expected: { obs_at(a,1) }\u001B[39;00m\n\u001B[0;32m----> 2\u001B[0m \u001B[43msolve\u001B[49m\u001B[43m(\u001B[49m\u001B[43m[\u001B[49m\u001B[43maxiom\u001B[49m\u001B[43m,\u001B[49m\n\u001B[1;32m      3\u001B[0m \u001B[43m       \u001B[49m\u001B[43mexample_1\u001B[49m\u001B[43m,\u001B[49m\n\u001B[1;32m      4\u001B[0m \u001B[43m       \u001B[49m\u001B[43minstance_1\u001B[49m\u001B[43m,\u001B[49m\n\u001B[1;32m      5\u001B[0m \u001B[43m       \u001B[49m\u001B[38;5;124;43m\"\u001B[39;49m\u001B[38;5;124;43m#show obs_at/2.\u001B[39;49m\u001B[38;5;124;43m\"\u001B[39;49m\u001B[43m]\u001B[49m\u001B[43m)\u001B[49m\n",
      "File \u001B[0;32m~/Dev/ASP/InterpAL/action_language_interpreter/util.py:92\u001B[0m, in \u001B[0;36msolve\u001B[0;34m(programs, clingo_args, grounding_context, filter_symbols, report, sep)\u001B[0m\n\u001B[1;32m     89\u001B[0m         \u001B[38;5;28;01melif\u001B[39;00m \u001B[38;5;28misinstance\u001B[39m(program, Path):\n\u001B[1;32m     90\u001B[0m             ctl\u001B[38;5;241m.\u001B[39mload(\u001B[38;5;28mstr\u001B[39m(program))\n\u001B[0;32m---> 92\u001B[0m \u001B[43mctl\u001B[49m\u001B[38;5;241;43m.\u001B[39;49m\u001B[43mground\u001B[49m\u001B[43m(\u001B[49m\u001B[43m[\u001B[49m\u001B[43m(\u001B[49m\u001B[38;5;124;43m\"\u001B[39;49m\u001B[38;5;124;43mbase\u001B[39;49m\u001B[38;5;124;43m\"\u001B[39;49m\u001B[43m,\u001B[49m\u001B[43m \u001B[49m\u001B[43m[\u001B[49m\u001B[43m]\u001B[49m\u001B[43m)\u001B[49m\u001B[43m]\u001B[49m\u001B[43m,\u001B[49m\u001B[43m \u001B[49m\u001B[43mcontext\u001B[49m\u001B[38;5;241;43m=\u001B[39;49m\u001B[43mgrounding_context\u001B[49m\u001B[43m)\u001B[49m\n\u001B[1;32m     94\u001B[0m \u001B[38;5;28;01mwith\u001B[39;00m ctl\u001B[38;5;241m.\u001B[39msolve(yield_\u001B[38;5;241m=\u001B[39m\u001B[38;5;28;01mTrue\u001B[39;00m, async_\u001B[38;5;241m=\u001B[39m\u001B[38;5;28;01mTrue\u001B[39;00m) \u001B[38;5;28;01mas\u001B[39;00m solver:\n\u001B[1;32m     96\u001B[0m     done \u001B[38;5;241m=\u001B[39m \u001B[38;5;28;01mFalse\u001B[39;00m\n",
      "File \u001B[0;32m~/.local/share/miniconda/envs/InterpAL/lib/python3.10/site-packages/clingo/control.py:338\u001B[0m, in \u001B[0;36mControl.ground\u001B[0;34m(self, parts, context)\u001B[0m\n\u001B[1;32m    335\u001B[0m         c_part\u001B[38;5;241m.\u001B[39mparams[i] \u001B[38;5;241m=\u001B[39m sym\u001B[38;5;241m.\u001B[39m_rep\n\u001B[1;32m    336\u001B[0m     c_part\u001B[38;5;241m.\u001B[39msize \u001B[38;5;241m=\u001B[39m \u001B[38;5;28mlen\u001B[39m(part[\u001B[38;5;241m1\u001B[39m])\n\u001B[0;32m--> 338\u001B[0m \u001B[43m_handle_error\u001B[49m\u001B[43m(\u001B[49m\u001B[43m_lib\u001B[49m\u001B[38;5;241;43m.\u001B[39;49m\u001B[43mclingo_control_ground\u001B[49m\u001B[43m(\u001B[49m\n\u001B[1;32m    339\u001B[0m \u001B[43m    \u001B[49m\u001B[38;5;28;43mself\u001B[39;49m\u001B[38;5;241;43m.\u001B[39;49m\u001B[43m_rep\u001B[49m\u001B[43m,\u001B[49m\u001B[43m \u001B[49m\u001B[43mc_parts\u001B[49m\u001B[43m,\u001B[49m\u001B[43m \u001B[49m\u001B[38;5;28;43mlen\u001B[39;49m\u001B[43m(\u001B[49m\u001B[43mparts\u001B[49m\u001B[43m)\u001B[49m\u001B[43m,\u001B[49m\u001B[43m \u001B[49m\u001B[43mc_cb\u001B[49m\u001B[43m,\u001B[49m\u001B[43m \u001B[49m\u001B[43mc_data\u001B[49m\u001B[43m)\u001B[49m\u001B[43m,\u001B[49m\u001B[43m \u001B[49m\u001B[43mdata\u001B[49m\u001B[43m)\u001B[49m\n",
      "File \u001B[0;32m~/.local/share/miniconda/envs/InterpAL/lib/python3.10/site-packages/clingo/_internal.py:65\u001B[0m, in \u001B[0;36m_handle_error\u001B[0;34m(ret, handler)\u001B[0m\n\u001B[1;32m     63\u001B[0m \u001B[38;5;28;01mif\u001B[39;00m code \u001B[38;5;241m==\u001B[39m _lib\u001B[38;5;241m.\u001B[39mclingo_error_bad_alloc:\n\u001B[1;32m     64\u001B[0m     \u001B[38;5;28;01mraise\u001B[39;00m \u001B[38;5;167;01mMemoryError\u001B[39;00m(msg)\n\u001B[0;32m---> 65\u001B[0m \u001B[38;5;28;01mraise\u001B[39;00m \u001B[38;5;167;01mRuntimeError\u001B[39;00m(msg)\n",
      "\u001B[0;31mRuntimeError\u001B[0m: grounding stopped because of errors"
     ]
    }
   ],
   "source": [
    "# Expected: { obs_at(a,1) }\n",
    "solve([axiom,\n",
    "       example_1,\n",
    "       instance_1,\n",
    "       \"#show obs_at/2.\"]);"
   ],
   "metadata": {
    "collapsed": false,
    "pycharm": {
     "name": "#%%\n"
    }
   }
  },
  {
   "cell_type": "code",
   "execution_count": null,
   "outputs": [],
   "source": [
    "instance_2 = \"\"\"\n",
    "\n",
    "occ_at(e, 1).\n",
    "pos_at(b, 1).\n",
    "neg_at(c, 1).\n",
    "\n",
    "\"\"\""
   ],
   "metadata": {
    "collapsed": false,
    "pycharm": {
     "name": "#%%\n"
    }
   }
  },
  {
   "cell_type": "code",
   "execution_count": null,
   "outputs": [],
   "source": [
    "# Expected: { }\n",
    "solve([axiom,\n",
    "       example_1,\n",
    "       instance_2,\n",
    "       \"#show obs_at/2.\"]);"
   ],
   "metadata": {
    "collapsed": false,
    "pycharm": {
     "name": "#%%\n"
    }
   }
  },
  {
   "cell_type": "code",
   "execution_count": null,
   "outputs": [],
   "source": [
    "example_2 = \"\"\"\n",
    "\n",
    "time(1..2).\n",
    "\n",
    "event_causes_if(e, a, 1).\n",
    "condition_fluent(1, b).\n",
    "condition_fluent(1, -c).\n",
    "\n",
    "\"\"\""
   ],
   "metadata": {
    "collapsed": false,
    "pycharm": {
     "name": "#%%\n"
    }
   }
  },
  {
   "cell_type": "code",
   "execution_count": null,
   "outputs": [],
   "source": [
    "# Expected: { }\n",
    "solve([axiom,\n",
    "       example_2,\n",
    "       instance_1,\n",
    "       \"#show obs_at/2.\"]);"
   ],
   "metadata": {
    "collapsed": false,
    "pycharm": {
     "name": "#%%\n"
    }
   }
  },
  {
   "cell_type": "code",
   "execution_count": null,
   "outputs": [],
   "source": [
    "# Expected: { obs_at(a, 1) }\n",
    "solve([axiom,\n",
    "       example_2,\n",
    "       instance_2,\n",
    "       \"#show obs_at/2.\"]);"
   ],
   "metadata": {
    "collapsed": false,
    "pycharm": {
     "name": "#%%\n"
    }
   }
  }
 ],
 "metadata": {
  "kernelspec": {
   "display_name": "Python 3",
   "language": "python",
   "name": "python3"
  },
  "language_info": {
   "codemirror_mode": {
    "name": "ipython",
    "version": 2
   },
   "file_extension": ".py",
   "mimetype": "text/x-python",
   "name": "python",
   "nbconvert_exporter": "python",
   "pygments_lexer": "ipython2",
   "version": "2.7.6"
  }
 },
 "nbformat": 4,
 "nbformat_minor": 0
}