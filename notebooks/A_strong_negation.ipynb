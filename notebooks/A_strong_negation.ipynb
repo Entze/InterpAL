{
 "cells": [
  {
   "cell_type": "code",
   "execution_count": 1,
   "metadata": {
    "collapsed": true
   },
   "outputs": [],
   "source": [
    "from action_language_interpreter.util import solve"
   ]
  },
  {
   "cell_type": "code",
   "execution_count": 2,
   "outputs": [
    {
     "name": "stdout",
     "output_type": "stream",
     "text": [
      "Answer  1: {\n",
      "holds_at(a,1)\n",
      "holds_at(a,2)\n",
      "holds_at(a,3)\n",
      "holds_at(a,4)\n",
      "holds_at(-a,5)\n",
      "holds_at(-a,6)\n",
      "holds_at(-a,7)\n",
      "holds_at(-a,8)\n",
      "holds_at(-a,9)\n",
      "holds_at(-a,10)\n",
      "}.\n",
      "SAT 1 \n"
     ]
    }
   ],
   "source": [
    "confusing = \"\"\"\n",
    "\n",
    "time(1..10).\n",
    "domain(a;b;c;d).\n",
    "\n",
    "holds_at(a, 1).\n",
    "holds_at(-a, 5).\n",
    "\n",
    "% Inertia\n",
    "holds_at(X, T+1) :-\n",
    "  time(T), time(T+1),\n",
    "  holds_at(X, T),\n",
    "  not holds_at(-X, T+1).\n",
    "\n",
    "% Negative Inertia\n",
    "holds_at(-X, T+1) :-\n",
    "  time(T), time(T+1),\n",
    "  holds_at(-X, T),\n",
    "  not holds_at(X, T+1).\n",
    "\n",
    "#show holds_at/2.\n",
    "\n",
    "\"\"\"\n",
    "solve(confusing, sep=\"\\n\");"
   ],
   "metadata": {
    "collapsed": false,
    "pycharm": {
     "name": "#%%\n"
    }
   }
  },
  {
   "cell_type": "markdown",
   "source": [
    "This is potentially confusing when introducing the third value \"unknown\". So here is my suggestion:"
   ],
   "metadata": {
    "collapsed": false
   }
  },
  {
   "cell_type": "code",
   "execution_count": 3,
   "outputs": [
    {
     "name": "stdout",
     "output_type": "stream",
     "text": [
      "Answer  1: {\n",
      "neg_at(a,5)\n",
      "neg_at(a,6)\n",
      "neg_at(a,7)\n",
      "neg_at(a,8)\n",
      "neg_at(a,9)\n",
      "neg_at(a,10)\n",
      "pos_at(a,1)\n",
      "pos_at(a,2)\n",
      "pos_at(a,3)\n",
      "pos_at(a,4)\n",
      "}.\n",
      "SAT 1 \n"
     ]
    }
   ],
   "source": [
    "suggestion = \"\"\"\n",
    "\n",
    "time(1..10).\n",
    "domain(a;b;c;d).\n",
    "\n",
    "pos_at(a, 1).\n",
    "neg_at(a, 5).\n",
    "\n",
    "pos_at(X, T+1) :-\n",
    "  time(T), time(T+1),\n",
    "  pos_at(X, T),\n",
    "  not neg_at(X, T+1).\n",
    "\n",
    "neg_at(X, T+1) :-\n",
    "  time(T), time(T+1),\n",
    "  neg_at(X, T),\n",
    "  not pos_at(X, T+1).\n",
    "\n",
    "#show pos_at/2.\n",
    "#show neg_at/2.\n",
    "\n",
    "\"\"\"\n",
    "\n",
    "solve(suggestion, sep='\\n');"
   ],
   "metadata": {
    "collapsed": false,
    "pycharm": {
     "name": "#%%\n"
    }
   }
  },
  {
   "cell_type": "code",
   "execution_count": 3,
   "outputs": [],
   "source": [],
   "metadata": {
    "collapsed": false,
    "pycharm": {
     "name": "#%%\n"
    }
   }
  }
 ],
 "metadata": {
  "kernelspec": {
   "display_name": "Python 3",
   "language": "python",
   "name": "python3"
  },
  "language_info": {
   "codemirror_mode": {
    "name": "ipython",
    "version": 2
   },
   "file_extension": ".py",
   "mimetype": "text/x-python",
   "name": "python",
   "nbconvert_exporter": "python",
   "pygments_lexer": "ipython2",
   "version": "2.7.6"
  }
 },
 "nbformat": 4,
 "nbformat_minor": 0
}