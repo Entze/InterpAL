{
 "cells": [
  {
   "cell_type": "code",
   "execution_count": 1,
   "metadata": {},
   "outputs": [],
   "source": [
    "import sys\n",
    "\n",
    "sys.path.append('..')\n",
    "\n",
    "from action_language_interpreter.action_language import *"
   ]
  },
  {
   "cell_type": "markdown",
   "metadata": {
    "pycharm": {
     "name": "#%% md\n"
    }
   },
   "source": [
    "# Instance"
   ]
  },
  {
   "cell_type": "code",
   "execution_count": 2,
   "metadata": {
    "pycharm": {
     "name": "#%%\n"
    }
   },
   "outputs": [],
   "source": [
    "nr_battery_levels = 3\n",
    "nr_positions = 3\n",
    "goal_position = 2\n",
    "AD = ActionDescription()"
   ]
  },
  {
   "cell_type": "code",
   "execution_count": 3,
   "metadata": {
    "pycharm": {
     "name": "#%%\n"
    }
   },
   "outputs": [],
   "source": [
    "battery_levels = [FluentLiteral(f\"battery({battery_level})\") for battery_level in range(nr_battery_levels)]\n",
    "positions = [FluentLiteral(f\"position({position})\") for position in range(nr_positions)]\n",
    "objective_reached = FluentLiteral('objective_reached')\n",
    "objective_reachable = FluentLiteral('objective_reachable')"
   ]
  },
  {
   "cell_type": "code",
   "execution_count": 4,
   "metadata": {
    "pycharm": {
     "name": "#%%\n"
    }
   },
   "outputs": [
    {
     "data": {
      "text/plain": [
       "[battery(0), battery(1), battery(2)]"
      ]
     },
     "execution_count": 4,
     "metadata": {},
     "output_type": "execute_result"
    }
   ],
   "source": [
    "battery_levels"
   ]
  },
  {
   "cell_type": "code",
   "execution_count": 5,
   "metadata": {
    "pycharm": {
     "name": "#%%\n"
    }
   },
   "outputs": [
    {
     "data": {
      "text/plain": [
       "[position(0), position(1), position(2)]"
      ]
     },
     "execution_count": 5,
     "metadata": {},
     "output_type": "execute_result"
    }
   ],
   "source": [
    "positions"
   ]
  },
  {
   "cell_type": "code",
   "execution_count": 6,
   "metadata": {
    "pycharm": {
     "name": "#%%\n"
    }
   },
   "outputs": [],
   "source": [
    "events: Set[Event] = {'move', 'wait'}"
   ]
  },
  {
   "cell_type": "markdown",
   "metadata": {
    "pycharm": {
     "name": "#%% md\n"
    }
   },
   "source": [
    "# Semi-Automatic Grounding"
   ]
  },
  {
   "cell_type": "code",
   "execution_count": 7,
   "metadata": {
    "pycharm": {
     "name": "#%%\n"
    }
   },
   "outputs": [],
   "source": [
    "for b,battery_level in enumerate(battery_levels):\n",
    "    for e,event in enumerate(events):\n",
    "        if b != 0:\n",
    "            AD.add_stmt_causes_if(event, battery_levels[b-1], battery_level)\n",
    "            AD.add_stmt_causes_if(event, ~battery_level, battery_level)\n",
    "    for other_battery_level in battery_levels:\n",
    "        if battery_level != other_battery_level:\n",
    "            AD.add_stmt_if(~battery_level, other_battery_level)"
   ]
  },
  {
   "cell_type": "code",
   "execution_count": 8,
   "metadata": {
    "pycharm": {
     "name": "#%%\n"
    }
   },
   "outputs": [],
   "source": [
    "for p,position in enumerate(positions):\n",
    "    if p < len(positions) - 1:\n",
    "        AD.add_stmt_causes_if('move', positions[p+1], position)\n",
    "        AD.add_stmt_causes_if('move', ~position, position)\n",
    "    AD.add_stmt_causes_if('wait', position, position)\n",
    "    for b, battery_level in enumerate(battery_levels):\n",
    "        if b + p >= 2:\n",
    "            AD.add_stmt_if(objective_reachable, position, battery_level)\n",
    "        else:\n",
    "            AD.add_stmt_if(~objective_reachable, position, battery_level)\n",
    "    for other_position in positions:\n",
    "        if position != other_position:\n",
    "            AD.add_stmt_if(~position, other_position)"
   ]
  },
  {
   "cell_type": "code",
   "execution_count": 9,
   "metadata": {
    "pycharm": {
     "name": "#%%\n"
    }
   },
   "outputs": [],
   "source": [
    "AD.add_stmt_impossible_if('move', positions[2])\n",
    "AD.add_stmt_impossible_if('move', battery_levels[0])\n",
    "AD.add_stmt_if(~objective_reached, ~positions[2])\n",
    "AD.add_stmt_if(objective_reached, positions[2], ~objective_reached)"
   ]
  },
  {
   "cell_type": "code",
   "execution_count": 10,
   "metadata": {
    "pycharm": {
     "name": "#%%\n"
    }
   },
   "outputs": [
    {
     "data": {
      "text/plain": [
       "({wait causes ¬battery(2) if battery(2), move causes ¬battery(1) if battery(1), wait causes position(0) if position(0), wait causes battery(0) if battery(1), wait causes battery(1) if battery(2), move causes position(1) if position(0), move causes position(2) if position(1), wait causes position(1) if position(1), move causes ¬battery(2) if battery(2), wait causes position(2) if position(2), move causes battery(0) if battery(1), move causes battery(1) if battery(2), move causes ¬position(1) if position(1), wait causes ¬battery(1) if battery(1), move causes ¬position(0) if position(0)}, {¬position(2) if position(0), ¬battery(1) if battery(0), ¬objective_reachable if battery(0),position(0), objective_reachable if battery(2),position(2), ¬battery(2) if battery(1), ¬position(0) if position(1), ¬position(1) if position(2), objective_reachable if battery(1),position(1), ¬battery(0) if battery(2), objective_reachable if battery(2),position(0), objective_reached if ¬objective_reached,position(2), objective_reachable if battery(1),position(2), ¬position(2) if position(1), ¬battery(0) if battery(1), ¬battery(1) if battery(2), ¬objective_reachable if battery(1),position(0), ¬battery(2) if battery(0), ¬objective_reached if ¬position(2), objective_reachable if battery(0),position(2), objective_reachable if position(1),battery(2), ¬position(0) if position(2), ¬objective_reachable if battery(0),position(1), ¬position(1) if position(0)}, {move impossible_if battery(0), move impossible_if position(2)})"
      ]
     },
     "execution_count": 10,
     "metadata": {},
     "output_type": "execute_result"
    }
   ],
   "source": [
    "AD"
   ]
  },
  {
   "cell_type": "markdown",
   "metadata": {
    "pycharm": {
     "name": "#%% md\n"
    }
   },
   "source": [
    "# Execution"
   ]
  },
  {
   "cell_type": "code",
   "execution_count": 11,
   "metadata": {
    "pycharm": {
     "name": "#%%\n"
    }
   },
   "outputs": [
    {
     "data": {
      "text/plain": [
       "{¬battery(0),\n",
       " ¬battery(1),\n",
       " battery(2),\n",
       " objective_reachable,\n",
       " ¬objective_reached,\n",
       " position(0),\n",
       " ¬position(1),\n",
       " ¬position(2)}"
      ]
     },
     "execution_count": 11,
     "metadata": {},
     "output_type": "execute_result"
    }
   ],
   "source": [
    "initial_state, relevant_compliance_rules = AD.comply({battery_levels[2], positions[0]})\n",
    "initial_state"
   ]
  },
  {
   "cell_type": "code",
   "execution_count": 12,
   "metadata": {
    "pycharm": {
     "name": "#%%\n"
    }
   },
   "outputs": [
    {
     "data": {
      "text/plain": [
       "({'move', 'wait'}, ())"
      ]
     },
     "execution_count": 12,
     "metadata": {},
     "output_type": "execute_result"
    }
   ],
   "source": [
    "AD.executable_events(initial_state, events)"
   ]
  },
  {
   "cell_type": "markdown",
   "metadata": {
    "pycharm": {
     "name": "#%% md\n"
    }
   },
   "source": [
    "## Unsuccessfull Path"
   ]
  },
  {
   "cell_type": "code",
   "execution_count": 13,
   "metadata": {
    "pycharm": {
     "name": "#%%\n"
    }
   },
   "outputs": [],
   "source": [
    "u_state1, u_relevant_stmts1 = AD.execute(initial_state, 'wait')"
   ]
  },
  {
   "cell_type": "code",
   "execution_count": 14,
   "metadata": {
    "pycharm": {
     "name": "#%%\n"
    }
   },
   "outputs": [
    {
     "data": {
      "text/plain": [
       "{¬battery(0),\n",
       " battery(1),\n",
       " ¬battery(2),\n",
       " ¬objective_reachable,\n",
       " ¬objective_reached,\n",
       " position(0),\n",
       " ¬position(1),\n",
       " ¬position(2)}"
      ]
     },
     "execution_count": 14,
     "metadata": {},
     "output_type": "execute_result"
    }
   ],
   "source": [
    "u_state1"
   ]
  },
  {
   "cell_type": "code",
   "execution_count": 15,
   "metadata": {
    "pycharm": {
     "name": "#%%\n"
    }
   },
   "outputs": [
    {
     "data": {
      "text/plain": [
       "[wait causes ¬battery(2) if battery(2),\n",
       " wait causes position(0) if position(0),\n",
       " wait causes battery(1) if battery(2),\n",
       " ¬position(2) if position(0),\n",
       " ¬battery(2) if battery(1),\n",
       " ¬battery(0) if battery(1),\n",
       " ¬objective_reachable if battery(1),position(0),\n",
       " ¬objective_reached if ¬position(2),\n",
       " ¬position(1) if position(0)]"
      ]
     },
     "execution_count": 15,
     "metadata": {},
     "output_type": "execute_result"
    }
   ],
   "source": [
    "u_relevant_stmts1"
   ]
  },
  {
   "cell_type": "code",
   "execution_count": 16,
   "metadata": {
    "pycharm": {
     "name": "#%%\n"
    }
   },
   "outputs": [
    {
     "data": {
      "text/plain": [
       "({'move', 'wait'}, ())"
      ]
     },
     "execution_count": 16,
     "metadata": {},
     "output_type": "execute_result"
    }
   ],
   "source": [
    "AD.executable_events(u_state1, events)"
   ]
  },
  {
   "cell_type": "code",
   "execution_count": 17,
   "metadata": {
    "pycharm": {
     "name": "#%%\n"
    }
   },
   "outputs": [],
   "source": [
    "u_state2, u_relevant_stmts2 = AD.execute(u_state1, 'move')"
   ]
  },
  {
   "cell_type": "code",
   "execution_count": 18,
   "metadata": {
    "pycharm": {
     "name": "#%%\n"
    }
   },
   "outputs": [
    {
     "data": {
      "text/plain": [
       "{battery(0),\n",
       " ¬battery(1),\n",
       " ¬battery(2),\n",
       " ¬objective_reachable,\n",
       " ¬objective_reached,\n",
       " ¬position(0),\n",
       " position(1),\n",
       " ¬position(2)}"
      ]
     },
     "execution_count": 18,
     "metadata": {},
     "output_type": "execute_result"
    }
   ],
   "source": [
    "u_state2"
   ]
  },
  {
   "cell_type": "code",
   "execution_count": 19,
   "metadata": {
    "pycharm": {
     "name": "#%%\n"
    }
   },
   "outputs": [
    {
     "data": {
      "text/plain": [
       "[move causes ¬battery(1) if battery(1),\n",
       " move causes position(1) if position(0),\n",
       " move causes battery(0) if battery(1),\n",
       " move causes ¬position(0) if position(0),\n",
       " ¬battery(1) if battery(0),\n",
       " ¬position(0) if position(1),\n",
       " ¬position(2) if position(1),\n",
       " ¬battery(2) if battery(0),\n",
       " ¬objective_reached if ¬position(2),\n",
       " ¬objective_reachable if battery(0),position(1)]"
      ]
     },
     "execution_count": 19,
     "metadata": {},
     "output_type": "execute_result"
    }
   ],
   "source": [
    "u_relevant_stmts2"
   ]
  },
  {
   "cell_type": "code",
   "execution_count": 20,
   "metadata": {
    "pycharm": {
     "name": "#%%\n"
    }
   },
   "outputs": [],
   "source": [
    "u_scenario_path = (initial_state, [('wait', u_state1), ('move', u_state2)])"
   ]
  },
  {
   "cell_type": "code",
   "execution_count": 21,
   "metadata": {
    "pycharm": {
     "name": "#%%\n"
    }
   },
   "outputs": [
    {
     "data": {
      "text/plain": [
       "({'wait'}, (move impossible_if battery(0),))"
      ]
     },
     "execution_count": 21,
     "metadata": {},
     "output_type": "execute_result"
    }
   ],
   "source": [
    "AD.executable_events(u_state2, events)"
   ]
  },
  {
   "cell_type": "markdown",
   "metadata": {
    "pycharm": {
     "name": "#%% md\n"
    }
   },
   "source": [
    "# Explanations"
   ]
  },
  {
   "cell_type": "code",
   "execution_count": 22,
   "metadata": {
    "pycharm": {
     "name": "#%%\n"
    }
   },
   "outputs": [],
   "source": [
    "direct_effects, indirect_effects = get_first_causal_explanation(action_description=AD, scenario_path=u_scenario_path, outcome={~objective_reachable})"
   ]
  },
  {
   "cell_type": "code",
   "execution_count": 23,
   "metadata": {
    "pycharm": {
     "name": "#%%\n"
    }
   },
   "outputs": [
    {
     "data": {
      "text/plain": [
       "{battery(1), ¬battery(2), position(0)}"
      ]
     },
     "execution_count": 23,
     "metadata": {},
     "output_type": "execute_result"
    }
   ],
   "source": [
    "direct_effects"
   ]
  },
  {
   "cell_type": "code",
   "execution_count": 24,
   "metadata": {
    "pycharm": {
     "name": "#%%\n"
    }
   },
   "outputs": [
    {
     "data": {
      "text/plain": [
       "{¬objective_reachable}"
      ]
     },
     "execution_count": 24,
     "metadata": {},
     "output_type": "execute_result"
    }
   ],
   "source": [
    "indirect_effects"
   ]
  },
  {
   "cell_type": "code",
   "execution_count": 25,
   "metadata": {
    "pycharm": {
     "name": "#%%\n"
    }
   },
   "outputs": [],
   "source": [
    "supporting_literals, initial_literals = get_second_causal_explanation(action_description=AD, scenario_path=u_scenario_path, outcome={~objective_reachable}, effects=direct_effects | indirect_effects)"
   ]
  },
  {
   "cell_type": "code",
   "execution_count": 26,
   "metadata": {
    "pycharm": {
     "name": "#%%\n"
    }
   },
   "outputs": [
    {
     "data": {
      "text/plain": [
       "set()"
      ]
     },
     "execution_count": 26,
     "metadata": {},
     "output_type": "execute_result"
    }
   ],
   "source": [
    "supporting_literals"
   ]
  },
  {
   "cell_type": "code",
   "execution_count": 27,
   "metadata": {
    "pycharm": {
     "name": "#%%\n"
    }
   },
   "outputs": [
    {
     "data": {
      "text/plain": [
       "set()"
      ]
     },
     "execution_count": 27,
     "metadata": {},
     "output_type": "execute_result"
    }
   ],
   "source": [
    "initial_literals"
   ]
  },
  {
   "cell_type": "code",
   "execution_count": 28,
   "metadata": {
    "pycharm": {
     "name": "#%%\n"
    }
   },
   "outputs": [],
   "source": [
    "supporting_events, uncaused_literals = get_third_causal_explanation(action_description=AD, scenario_path=u_scenario_path, outcome={~objective_reachable})"
   ]
  },
  {
   "cell_type": "code",
   "execution_count": 29,
   "metadata": {
    "pycharm": {
     "name": "#%%\n"
    }
   },
   "outputs": [
    {
     "data": {
      "text/plain": [
       "set()"
      ]
     },
     "execution_count": 29,
     "metadata": {},
     "output_type": "execute_result"
    }
   ],
   "source": [
    "supporting_events"
   ]
  },
  {
   "cell_type": "code",
   "execution_count": 30,
   "metadata": {
    "pycharm": {
     "name": "#%%\n"
    }
   },
   "outputs": [
    {
     "data": {
      "text/plain": [
       "set()"
      ]
     },
     "execution_count": 30,
     "metadata": {},
     "output_type": "execute_result"
    }
   ],
   "source": [
    "uncaused_literals"
   ]
  }
 ],
 "metadata": {
  "kernelspec": {
   "display_name": "Python 3 (ipykernel)",
   "language": "python",
   "name": "python3"
  },
  "language_info": {
   "codemirror_mode": {
    "name": "ipython",
    "version": 3
   },
   "file_extension": ".py",
   "mimetype": "text/x-python",
   "name": "python",
   "nbconvert_exporter": "python",
   "pygments_lexer": "ipython3",
   "version": "3.10.4"
  }
 },
 "nbformat": 4,
 "nbformat_minor": 1
}
