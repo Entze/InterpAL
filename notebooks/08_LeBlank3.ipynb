{
 "cells": [
  {
   "cell_type": "code",
   "execution_count": 12,
   "outputs": [],
   "source": [
    "from action_language_interpreter.util import solve"
   ],
   "metadata": {
    "collapsed": false,
    "pycharm": {
     "name": "#%%\n"
    }
   }
  },
  {
   "cell_type": "code",
   "execution_count": 13,
   "outputs": [],
   "source": [
    "time_starts_at_0_axiom = \"\"\"\n",
    "time(0).\n",
    "\"\"\"\n",
    "\n",
    "condition_axioms = \"\"\"\n",
    "conditionFails_at(C, T) :- fluent(F), time(T), condition_fluent(C, F), not pos_at(F, T).\n",
    "conditionFails_at(C, T) :- fluent(F), time(T), condition_fluent(C, -F), not neg_at(F, T).\n",
    "conditionFails_at(C, T) :- fluent(F), time(T), condition_fluent(C, unk(F)), not unk_at(F, T).\n",
    "\"\"\"\n",
    "\n",
    "causes_axioms = \"\"\"\n",
    "% E causes F if C*\n",
    "pos_at(F, T+1) :- event(E), fluent(F), time(T), event_causes_if(E, F, C), occ_at(E, T), not conditionFails_at(C, T).\n",
    "neg_at(F, T+1) :- event(E), fluent(F), time(T), event_causes_if(E, -F, C), occ_at(E, T), not conditionFails_at(C, T).\n",
    "unk_at(F, T+1) :- event(E), fluent(F), time(T), event_causes_if(E, unk(F), C), occ_at(E, T), not conditionFails_at(C, T).\n",
    "\"\"\"\n",
    "\n",
    "impossible_if_axiom = \"\"\"\n",
    "% E impossible_if C*\n",
    ":- event(E), time(T), eventImpossible_if(E, C), occ_at(E, T), not conditionFails_at(C, T).\n",
    "\"\"\"\n",
    "\n",
    "if_axioms = \"\"\"\n",
    "% F if C*\n",
    "pos_at(F, T) :- fluent(F), time(T), fluent_if(F, C), not conditionFails_at(C, T).\n",
    "neg_at(F, T) :- fluent(F), time(T), fluent_if(-F, C), not conditionFails_at(C, T).\n",
    "unk_at(F, T) :- fluent(F), time(T), fluent_if(unk(F), C), not conditionFails_at(C, T).\n",
    "\"\"\"\n",
    "\n",
    "inertia_axioms = \"\"\"\n",
    "pos_at(F, T+1) :- fluent(F), time(T), time(T+1), pos_at(F, T), not neg_at(F, T+1), not unk_at(F, T+1).\n",
    "neg_at(F, T+1) :- fluent(F), time(T), time(T+1), neg_at(F, T), not pos_at(F, T+1), not unk_at(F, T+1).\n",
    "unk_at(F, T+1) :- fluent(F), time(T), time(T+1), unk_at(F, T), not pos_at(F, T+1), not neg_at(F, T+1).\n",
    "\"\"\"\n",
    "\n",
    "consistency_axioms = \"\"\"\n",
    ":- fluent(F), time(T), pos_at(F, T), unk_at(F, T).\n",
    ":- fluent(F), time(T), neg_at(F, T), unk_at(F, T).\n",
    "\"\"\"\n",
    "\n",
    "completion_g1_axiom = \"\"\"\n",
    "% g1\n",
    "pos_at(F, 0) :- fluent(F), init(F).\n",
    "neg_at(F, 0) :- fluent(F), init(-F).\n",
    "\"\"\"\n",
    "\n",
    "completion_g2_axiom = \"\"\"\n",
    "% g2\n",
    "pos_at(F, 0) :- fluent(F), forced(F), default(F), not init(-F).\n",
    "1 { pos_at(F, 0); neg_at(F, 0) } 1 :- fluent(F), forced(F), not default(F), not init(F), not init(-F).\n",
    "\"\"\"\n",
    "\n",
    "completion_g3_axiom = \"\"\"\n",
    "% g3\n",
    "neg_at(F, 0) :- fluent(F), default(F), not pos_at(F, 0).\n",
    "unk_at(F, 0) :- fluent(F), not default(F), not pos_at(F, 0), not neg_at(F, 0).\n",
    "\"\"\"\n",
    "\n",
    "axioms = (time_starts_at_0_axiom, condition_axioms, causes_axioms, impossible_if_axiom, if_axioms, inertia_axioms,\n",
    "          consistency_axioms, completion_g1_axiom, completion_g2_axiom, completion_g3_axiom)"
   ],
   "metadata": {
    "collapsed": false,
    "pycharm": {
     "name": "#%%\n"
    }
   }
  },
  {
   "cell_type": "code",
   "execution_count": 14,
   "outputs": [],
   "source": [
    "force_all_fluents = \"\"\"\n",
    "\n",
    "forced(F) :- fluent(F).\n",
    "\n",
    "\"\"\""
   ],
   "metadata": {
    "collapsed": false,
    "pycharm": {
     "name": "#%%\n"
    }
   }
  },
  {
   "cell_type": "code",
   "execution_count": 15,
   "outputs": [],
   "source": [
    "force_all_non_default = \"\"\"\n",
    "\n",
    "forced(F) :- fluent(F), not default(F).\n",
    "\n",
    "\"\"\""
   ],
   "metadata": {
    "collapsed": false,
    "pycharm": {
     "name": "#%%\n"
    }
   }
  },
  {
   "cell_type": "code",
   "execution_count": 16,
   "outputs": [],
   "source": [
    "reason_by_case_for_all_fluents = \"\"\"\n",
    "\n",
    "split_at(F, T) :- fluent(F), occ_at(_, T).\n",
    "\n",
    "\"\"\""
   ],
   "metadata": {
    "collapsed": false,
    "pycharm": {
     "name": "#%%\n"
    }
   }
  },
  {
   "cell_type": "code",
   "execution_count": 17,
   "outputs": [],
   "source": [
    "instance = \"\"\"\n",
    "\n",
    "%% Steps\n",
    "time(0..1).\n",
    "\n",
    "%% Events\n",
    "event(d). % John goes on a first date with Mary.\n",
    "\n",
    "%% Fluents\n",
    "fluent(m). % John is married.\n",
    "fluent(ab). % John is abnormal.\n",
    "\n",
    "%% Knowledge Base\n",
    "% Action Description\n",
    "eventImpossible_if(d, 1).\n",
    "condition_fluent(1, m).\n",
    "condition_fluent(1, -ab).\n",
    "\n",
    "% Default fluents\n",
    "default(ab).\n",
    "\n",
    "%% Query\n",
    "query(m).\n",
    "\n",
    "\"\"\""
   ],
   "metadata": {
    "collapsed": false,
    "pycharm": {
     "name": "#%%\n"
    }
   }
  },
  {
   "cell_type": "code",
   "execution_count": 18,
   "outputs": [],
   "source": [
    "action_sequence = \"\"\"\n",
    "occ_at(d, 0).\n",
    "\"\"\""
   ],
   "metadata": {
    "collapsed": false,
    "pycharm": {
     "name": "#%%\n"
    }
   }
  },
  {
   "cell_type": "code",
   "execution_count": 20,
   "outputs": [
    {
     "name": "stdout",
     "output_type": "stream",
     "text": [
      "Answer  1: { default(ab) event(d) fluent(ab) fluent(m) forced(m) query(m) time(0) time(1) conditionFails_at(1,0) conditionFails_at(1,1) condition_fluent(1,m) condition_fluent(1,-ab) eventImpossible_if(d,1) neg_at(ab,0) neg_at(ab,1) neg_at(m,0) neg_at(m,1) occ_at(d,0) split_at(ab,0) split_at(m,0) }.\n",
      "SAT 1 \n"
     ]
    },
    {
     "name": "stderr",
     "output_type": "stream",
     "text": [
      "<block>:3:28-35: info: atom does not occur in any rule head:\n",
      "  init(F)\n",
      "\n",
      "<block>:3:37-52: info: atom does not occur in any rule head:\n",
      "  fluent_if(F,C)\n",
      "\n",
      "<block>:3:49-73: info: atom does not occur in any rule head:\n",
      "  event_causes_if(E,F,C)\n",
      "\n",
      "<block>:3:55-63: info: atom does not occur in any rule head:\n",
      "  init((-F))\n",
      "\n",
      "<block>:4:28-36: info: atom does not occur in any rule head:\n",
      "  init((-F))\n",
      "\n",
      "<block>:4:37-53: info: atom does not occur in any rule head:\n",
      "  fluent_if((-F),C)\n",
      "\n",
      "<block>:4:49-74: info: atom does not occur in any rule head:\n",
      "  event_causes_if(E,(-F),C)\n",
      "\n",
      "<block>:4:81-88: info: atom does not occur in any rule head:\n",
      "  init(F)\n",
      "\n",
      "<block>:4:94-102: info: atom does not occur in any rule head:\n",
      "  init((-F))\n",
      "\n",
      "<block>:5:37-57: info: atom does not occur in any rule head:\n",
      "  fluent_if(unk(F),C)\n",
      "\n",
      "<block>:5:49-78: info: atom does not occur in any rule head:\n",
      "  event_causes_if(E,unk(F),C)\n",
      "\n"
     ]
    }
   ],
   "source": [
    "solve([*axioms,\n",
    "       instance,\n",
    "       action_sequence,\n",
    "       force_all_non_default,\n",
    "       reason_by_case_for_all_fluents], clingo_args=(\"--models\", \"0\", \"--enum-mode\", \"cautious\"));"
   ],
   "metadata": {
    "collapsed": false,
    "pycharm": {
     "name": "#%%\n"
    }
   }
  },
  {
   "cell_type": "code",
   "execution_count": 22,
   "outputs": [],
   "source": [
    "# Answer set from above as facts.\n",
    "R = \"\"\"\n",
    "\n",
    "default(ab).\n",
    "event(d).\n",
    "fluent(ab).\n",
    "fluent(m).\n",
    "forced(m).\n",
    "query(m).\n",
    "time(0).\n",
    "time(1).\n",
    "conditionFails_at(1,0).\n",
    "conditionFails_at(1,1).\n",
    "condition_fluent(1,m).\n",
    "condition_fluent(1,-ab).\n",
    "eventImpossible_if(d,1).\n",
    "neg_at(ab,0).\n",
    "neg_at(ab,1).\n",
    "neg_at(m,0).\n",
    "neg_at(m,1).\n",
    "occ_at(d,0).\n",
    "split_at(ab,0).\n",
    "split_at(m,0).\n",
    "\n",
    "\"\"\""
   ],
   "metadata": {
    "collapsed": false,
    "pycharm": {
     "name": "#%%\n"
    }
   }
  },
  {
   "cell_type": "code",
   "execution_count": 25,
   "outputs": [],
   "source": [
    "make_conservative_assumptions = \"\"\"\n",
    "\n",
    "init(F) :- fluent(F), forced(F), pos_at(F, 0).\n",
    "init(-F) :- fluent(F), forced(F), neg_at(F, 0).\n",
    "\n",
    "#show init/1.\n",
    "\n",
    "\"\"\""
   ],
   "metadata": {
    "collapsed": false,
    "pycharm": {
     "name": "#%%\n"
    }
   }
  },
  {
   "cell_type": "code",
   "execution_count": 26,
   "outputs": [
    {
     "name": "stdout",
     "output_type": "stream",
     "text": [
      "Answer  1: { init(-m) }.\n",
      "SAT 1 \n"
     ]
    },
    {
     "name": "stderr",
     "output_type": "stream",
     "text": [
      "<block>:3:34-46: info: atom does not occur in any rule head:\n",
      "  pos_at(F,0)\n",
      "\n"
     ]
    }
   ],
   "source": [
    "solve([R, make_conservative_assumptions]);"
   ],
   "metadata": {
    "collapsed": false,
    "pycharm": {
     "name": "#%%\n"
    }
   }
  },
  {
   "cell_type": "code",
   "execution_count": null,
   "outputs": [],
   "source": [
    "initial_knowledge = \"\"\"\n",
    "\n",
    "init(-m).\n",
    "\n",
    "\"\"\""
   ],
   "metadata": {
    "collapsed": false,
    "pycharm": {
     "name": "#%%\n"
    }
   }
  },
  {
   "cell_type": "code",
   "execution_count": null,
   "outputs": [],
   "source": [],
   "metadata": {
    "collapsed": false,
    "pycharm": {
     "name": "#%%\n"
    }
   }
  }
 ],
 "metadata": {
  "kernelspec": {
   "display_name": "Python 3",
   "language": "python",
   "name": "python3"
  },
  "language_info": {
   "codemirror_mode": {
    "name": "ipython",
    "version": 2
   },
   "file_extension": ".py",
   "mimetype": "text/x-python",
   "name": "python",
   "nbconvert_exporter": "python",
   "pygments_lexer": "ipython2",
   "version": "2.7.6"
  }
 },
 "nbformat": 4,
 "nbformat_minor": 0
}