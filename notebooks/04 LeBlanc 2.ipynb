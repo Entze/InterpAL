{
 "cells": [
  {
   "cell_type": "code",
   "execution_count": 1,
   "id": "9ebfecca",
   "metadata": {},
   "outputs": [],
   "source": [
    "from clingo.symbol import Number, String\n",
    "from clingo.control import Control"
   ]
  },
  {
   "cell_type": "code",
   "execution_count": 2,
   "id": "d3fcb512",
   "metadata": {},
   "outputs": [],
   "source": [
    "def run(axioms):\n",
    "    evASP = Control(\"0\")\n",
    "    evASP.add(\"base\", [], axioms)\n",
    "\n",
    "    evASP.ground([(\"base\", [])])\n",
    "    \n",
    "    with evASP.solve(yield_=True) as handle:\n",
    "        #print(handle)\n",
    "        for m in handle: \n",
    "            print(\"Answer:\\n{}\\n\".format(m))"
   ]
  },
  {
   "cell_type": "code",
   "execution_count": 3,
   "id": "78cde927",
   "metadata": {},
   "outputs": [
    {
     "name": "stdout",
     "output_type": "stream",
     "text": [
      "Answer:\n",
      "bat(0) bat(1) causes(move,pos(2),pos(1)) causes(move,pos(3),pos(2)) causes(move,bat(0),bat(1)) pos(1) pos(2) pos(3)\n",
      "\n"
     ]
    }
   ],
   "source": [
    "code = \"\"\"\n",
    "\n",
    "causes(move, bat(B-1), bat(B)) :- bat(B), bat(B-1).\n",
    "causes(move, pos(P+1), pos(P)) :- pos(P), pos(P+1).\n",
    "\n",
    "pos(1..3).\n",
    "bat(0..1).\n",
    "\n",
    "\n",
    "\n",
    "\"\"\"\n",
    "\n",
    "run(code)"
   ]
  },
  {
   "cell_type": "code",
   "execution_count": 4,
   "id": "f4d57de5",
   "metadata": {},
   "outputs": [
    {
     "name": "stdout",
     "output_type": "stream",
     "text": [
      "Answer:\n",
      "causes(drinks(sokrates,hemlock),-isAlive(sokrates),3) causes(escapes(sokrates,prison),-inPrison(sokrates),2) causes(chargedWith(sokrates,impety),inPrison(sokrates),1)\n",
      "\n"
     ]
    }
   ],
   "source": [
    "sokrat = \"\"\"\n",
    "\n",
    "%%%%%%%%%%%%%%%%%%%%%%%%%%%%%%%%%%%%%%%%%%%%%%%%%%%%%%%%%%%%%%%%%%%%%%%%%%%%%%%%%%%%%%%%%%%%%%%%%%%%\n",
    "\n",
    "causes(chargedWith(X,Y), inPrison(X), 1) :- person(X), mistake(Y).\n",
    "\n",
    "causes(escapes(X, prison), -inPrison(X), 2) :- person(X).\n",
    "cond(2, inPrison(X)) :- person(X).\n",
    "\n",
    "causes(drinks(X,hemlock), -isAlive(X), 3) :- person(X).\n",
    "cond(3, isAlive(X)) :- person(X).\n",
    "\n",
    "impos(sentencedTo(X,Y), 4) :- person(X), sanction(Y).\n",
    "cond(4, -inPrison(X)) :- person(X).\n",
    "\n",
    "impos(walksOutside(X), 5) :- person(X).\n",
    "cond(5, inPrison(X)) :- person(X).\n",
    "\n",
    "mistake(impety).\n",
    "sanction(death).\n",
    "person(sokrates).\n",
    "\n",
    "%%%%%%%%%%%%%%%%%%%%%%%%%%%%%%%%%%%%%%%%%%%%%%%%%%%%%%%%%%%%%%%%%%%%%%%%%%%%%%%%%%%%%%%%%%%%%%%%%%%%\n",
    "\n",
    "#show holds/2.\n",
    "#show causes/3.\n",
    "\n",
    "\"\"\"\n",
    "\n",
    "#################\n",
    "meta = \"\"\"\n",
    "time(1..5).\n",
    "holds(Head, T+1) :- causes(Act, Head, Nr), not condNotHolds(Nr, T), time(T).\n",
    "condNotHolds(Nr, T) :- cond(Nr, Cond), not holds(Cond, T), time(T).\n",
    "\n",
    "%holds(F,T+1) :- holds(F,T), not holds(-F,T+1), time(T).\n",
    "%holds(-F,T+1) :- holds(-F,T), not holds(F, T+1).\n",
    "\n",
    "% :- holds(X, T), holds(-X,T).\n",
    "\n",
    "#show holds/2.\n",
    "\"\"\"\n",
    "#################\n",
    "\n",
    "\n",
    "run(sokrat)"
   ]
  },
  {
   "cell_type": "code",
   "execution_count": null,
   "id": "c1d0b7ce",
   "metadata": {},
   "outputs": [],
   "source": [
    "#########################################################\n",
    "#########################################################\n",
    "###################  LeBLanc 2  #########################"
   ]
  },
  {
   "cell_type": "code",
   "execution_count": 6,
   "id": "995d948c",
   "metadata": {},
   "outputs": [
    {
     "name": "stdout",
     "output_type": "stream",
     "text": [
      "Answer:\n",
      "time(1) time(2) time(3) time(4) impo(e1,5) impo(e3,10) impo(e3,11) cond(5,a) cond(12,c) cond(6,-e) cond(7,-d) cond(8,-a) cond(9,-c) cond(10,-e) cond(11,-f) caus(e1,e,6) caus(e2,d,7) caus(e3,a,8) caus(e3,c,9) if(b,12)\n",
      "\n"
     ]
    }
   ],
   "source": [
    "AD = \"\"\"\n",
    "\n",
    "impo(e1, 5).\n",
    "cond(5, a).\n",
    "\n",
    "caus(e1, e, 6).\n",
    "cond(6, -e).\n",
    "\n",
    "caus(e2, d, 7).\n",
    "cond(7, -d).\n",
    "\n",
    "caus(e3, a, 8).\n",
    "cond(8, -a).\n",
    "\n",
    "caus(e3, c, 9).\n",
    "cond(9, -c).\n",
    "\n",
    "impo(e3, 10).\n",
    "cond(10, -e).\n",
    "\n",
    "impo(e3, 11).\n",
    "cond(11, -f).\n",
    "\n",
    "if(b,12).\n",
    "cond(12, c).\n",
    "\n",
    "%%%%%%%%%%%%%%%%%%%%%%%%%%%%%%%%%%%%%%%%%%%%%%%%%%%%%%%%%%%%%%%%%%%%%%%%%%%%%%%%%%\n",
    "\n",
    "time(1..4).\n",
    "\n",
    "\n",
    "\"\"\"\n",
    "run(AD)"
   ]
  },
  {
   "cell_type": "code",
   "execution_count": 7,
   "id": "fb04d1fe",
   "metadata": {},
   "outputs": [
    {
     "name": "stdout",
     "output_type": "stream",
     "text": [
      "Answer:\n",
      "occ(e1,1) occ(e2,2) occ(e3,3) holds(-a,1) holds(-b,1) holds(-c,1) holds(-d,1) holds(-e,1) holds(f,1) holds(-a,2) holds(-b,2) holds(-c,2) holds(-d,2) holds(e,2) holds(f,2) holds(-a,3) holds(-b,3) holds(-c,3) holds(d,3) holds(e,3) holds(f,3) holds(a,4) holds(b,4) holds(c,4) holds(d,4) holds(e,4) holds(f,4)\n",
      "\n"
     ]
    }
   ],
   "source": [
    "scena = \"\"\"\n",
    "\n",
    "holds(-a,1; -b,1; -c,1; -d,1; -e,1; f,1).\n",
    "occ(e1, 1).\n",
    "\n",
    "holds(-a,2;-b,2;-c,2;-d,2;e,2;f,2).\n",
    "occ(e2,2).\n",
    "\n",
    "holds(-a,3;-b,3;-c,3;d,3;e,3;f,3). \n",
    "occ(e3,3). \n",
    "\n",
    "holds(a,4;b,4;c,4;d,4;e,4;f,4).\n",
    "\n",
    "\n",
    "\"\"\"\n",
    "run(scena)"
   ]
  },
  {
   "cell_type": "markdown",
   "id": "7a176bef",
   "metadata": {},
   "source": [
    "### Transition Event"
   ]
  },
  {
   "cell_type": "code",
   "execution_count": 31,
   "id": "777798c3",
   "metadata": {},
   "outputs": [
    {
     "name": "stdout",
     "output_type": "stream",
     "text": [
      "Answer:\n",
      "time(1) time(2) time(3) time(4) holds(-a,1) holds(-b,1) holds(-c,1) holds(-d,1) holds(-e,1) holds(f,1) holds(-a,2) holds(-b,2) holds(-c,2) holds(-d,2) holds(e,2) holds(f,2) holds(-a,3) holds(-b,3) holds(-c,3) holds(d,3) holds(e,3) holds(f,3) holds(a,4) holds(b,4) holds(c,4) holds(d,4) holds(e,4) holds(f,4) lit_transit(e,1) lit_transit(d,2) lit_transit(a,3) lit_transit(b,3) lit_transit(c,3) not_theta_sat(1) not_theta_sat(2) not_theta_sat(3) theta_sat(4) theta_transit(3) theta(a) theta(b) theta(c) theta(d) theta(e) theta(f) occ(e1,1) occ(e2,2) occ(e3,3)\n",
      "\n"
     ]
    }
   ],
   "source": [
    "theta = \"\"\"\n",
    "time(1..4).\n",
    "\n",
    "\n",
    "% outcome\n",
    "theta(a;b;c;d;e;f).\n",
    "\n",
    "theta_transit(T) :- theta_sat(T+1), not_theta_sat(T).\n",
    "theta_sat(T) :- not not_theta_sat(T), time(T).\n",
    "not_theta_sat(T) :- theta(Lit), not holds(Lit,T), time(T).\n",
    "\n",
    "\n",
    "%#show theta_transit/1.\n",
    "%#show theta_sat/1.\n",
    "%#show not_theta_sat/1.\n",
    "\n",
    "\n",
    "\"\"\"\n",
    "\n",
    "outcome_transit = scena+theta\n",
    "run(outcome_transit)"
   ]
  },
  {
   "cell_type": "markdown",
   "id": "273c763b",
   "metadata": {},
   "source": [
    "### direct and indirect Effects"
   ]
  },
  {
   "cell_type": "code",
   "execution_count": 52,
   "id": "01f0d737",
   "metadata": {},
   "outputs": [
    {
     "name": "stdout",
     "output_type": "stream",
     "text": [
      "Answer:\n",
      "time(1) time(2) time(3) time(4) holds(-a,1) holds(-b,1) holds(-c,1) holds(-d,1) holds(-e,1) holds(f,1) holds(-a,2) holds(-b,2) holds(-c,2) holds(-d,2) holds(e,2) holds(f,2) holds(-a,3) holds(-b,3) holds(-c,3) holds(d,3) holds(e,3) holds(f,3) holds(a,4) holds(b,4) holds(c,4) holds(d,4) holds(e,4) holds(f,4) lit_transit(e,1) lit_transit(d,2) lit_transit(a,3) lit_transit(b,3) lit_transit(c,3) not_theta_sat(1) not_theta_sat(2) not_theta_sat(3) theta_sat(4) theta_transit(3) theta(a) theta(b) theta(c) theta(d) theta(e) theta(f) id(5) id(6) id(7) id(8) id(9) id(10) id(11) id(12) caus(e1,e,6) caus(e2,d,7) caus(e3,a,8) caus(e3,c,9) occ(e1,1) occ(e2,2) occ(e3,3) dir_eff(e,1) dir_eff(d,2) dir_eff(a,3) dir_eff(c,3) inert_eff(-a,1) inert_eff(-b,1) inert_eff(-c,1) inert_eff(-d,1) inert_eff(f,1) inert_eff(-a,2) inert_eff(-b,2) inert_eff(-c,2) inert_eff(e,2) inert_eff(f,2) inert_eff(d,3) inert_eff(e,3) inert_eff(f,3) ind_eff(-a,0) ind_eff(-b,0) ind_eff(-c,0) ind_eff(-d,0) ind_eff(-e,0) ind_eff(f,0) ind_eff(b,3) out_dir_eff(e,1) out_dir_eff(d,2) out_dir_eff(a,3) out_dir_eff(c,3) out_ind_eff(f,0) out_ind_eff(b,3) impo(e1,5) impo(e3,10) impo(e3,11) cond(5,a) cond(12,c) cond(6,-e) cond(7,-d) cond(8,-a) cond(9,-c) cond(10,-e) cond(11,-f) if(b,12)\n",
      "\n"
     ]
    }
   ],
   "source": [
    "effs = \"\"\"\n",
    "time(1..4).\n",
    "id(5..12).\n",
    "\n",
    "dir_eff(Lit,T) :- occ(Ev, T), caus(Ev, Lit, Id), id(Id).\n",
    "inert_eff(Lit,T) :- holds(Lit,T), holds(Lit,T+1),time(T).\n",
    "ind_eff(Lit,T) :- holds(Lit,T+1), not dir_eff(Lit,T), not inert_eff(Lit,T).\n",
    "\n",
    "out_dir_eff(Lit,T) :- theta(Lit), dir_eff(Lit,T).\n",
    "out_ind_eff(Lit,T) :- theta(Lit), ind_eff(Lit,T).\n",
    "\n",
    "\n",
    "%#show dir_eff/2.\n",
    "%#show inert_eff/2.\n",
    "%#show ind_eff/2.\n",
    "%#show out_dir_eff/2.\n",
    "%#show out_ind_eff/2.\n",
    "\n",
    "\"\"\"\n",
    "basics = outcome_transit+effs+AD\n",
    "run(basics)"
   ]
  },
  {
   "cell_type": "markdown",
   "id": "b9223471",
   "metadata": {},
   "source": [
    "### 1st Explain"
   ]
  },
  {
   "cell_type": "code",
   "execution_count": 69,
   "id": "2fb4cfce",
   "metadata": {},
   "outputs": [
    {
     "name": "stdout",
     "output_type": "stream",
     "text": [
      "Answer:\n",
      "out_dir_eff(e,1) out_dir_eff(d,2) out_dir_eff(a,3) out_dir_eff(c,3) out_ind_eff(f,0) out_ind_eff(b,3)\n",
      "\n"
     ]
    }
   ],
   "source": [
    "out1 = \"\"\"\n",
    "\n",
    "#show out_dir_eff/2.\n",
    "#show out_ind_eff/2.\n",
    "\n",
    "\"\"\"\n",
    "\n",
    "first = out1+basics\n",
    "run(first)"
   ]
  },
  {
   "cell_type": "markdown",
   "id": "b68ef0ac",
   "metadata": {},
   "source": [
    "### OST"
   ]
  },
  {
   "cell_type": "code",
   "execution_count": 92,
   "id": "27f8c538",
   "metadata": {},
   "outputs": [
    {
     "name": "stdout",
     "output_type": "stream",
     "text": [
      "Answer:\n",
      "time(1) time(2) time(3) time(4) holds(-a,1) holds(-b,1) holds(-c,1) holds(-d,1) holds(-e,1) holds(f,1) holds(-a,2) holds(-b,2) holds(-c,2) holds(-d,2) holds(e,2) holds(f,2) holds(-a,3) holds(-b,3) holds(-c,3) holds(d,3) holds(e,3) holds(f,3) holds(a,4) holds(b,4) holds(c,4) holds(d,4) holds(e,4) holds(f,4) lit_transit(e,1) lit_transit(d,2) lit_transit(a,3) lit_transit(b,3) lit_transit(c,3) lit_ensures(e,1,2) lit_ensures(e,1,3) lit_ensures(e,1,4) lit_ensures(d,2,3) lit_ensures(d,2,4) lit_ensures(a,3,4) lit_ensures(b,3,4) lit_ensures(c,3,4) theta_transit(3) o_supp(e,1,3) o_supp(d,2,3) theta(a) theta(b) theta(c) theta(d) theta(e) theta(f) out_dir_eff(e,1) out_dir_eff(d,2) out_dir_eff(a,3) out_dir_eff(c,3) out_ind_eff(f,0) out_ind_eff(b,3) remain(a,1) remain(b,1) remain(c,1) remain(d,1) remain(f,1) remain(a,2) remain(b,2) remain(c,2) remain(e,2) remain(f,2) remain(d,3) remain(e,3) remain(f,3) remain(a,4) remain(b,4) remain(c,4) remain(d,4) remain(e,4) remain(f,4) o_init(a,1) o_init(b,1) o_init(c,1) o_init(d,1) o_init(f,1) o_init(a,2) o_init(b,2) o_init(c,2) o_init(e,2) o_init(f,2) o_init(f,3) o_init(a,4) o_init(b,4) o_init(c,4) o_init(d,4) o_init(e,4) o_init(f,4) not_theta_sat(1) not_theta_sat(2) not_theta_sat(3) theta_sat(4) id(5) id(6) id(7) id(8) id(9) id(10) id(11) id(12) caus(e1,e,6) caus(e2,d,7) caus(e3,a,8) caus(e3,c,9) occ(e1,1) occ(e2,2) occ(e3,3) dir_eff(e,1) dir_eff(d,2) dir_eff(a,3) dir_eff(c,3) inert_eff(-a,1) inert_eff(-b,1) inert_eff(-c,1) inert_eff(-d,1) inert_eff(f,1) inert_eff(-a,2) inert_eff(-b,2) inert_eff(-c,2) inert_eff(e,2) inert_eff(f,2) inert_eff(d,3) inert_eff(e,3) inert_eff(f,3) ind_eff(-a,0) ind_eff(-b,0) ind_eff(-c,0) ind_eff(-d,0) ind_eff(-e,0) ind_eff(f,0) ind_eff(b,3) impo(e1,5) impo(e3,10) impo(e3,11) cond(5,a) cond(12,c) cond(6,-e) cond(7,-d) cond(8,-a) cond(9,-c) cond(10,-e) cond(11,-f) if(b,12)\n",
      "\n"
     ]
    }
   ],
   "source": [
    "remain_ensure =  \"\"\"\n",
    "\n",
    "\n",
    "lit_transit(Lit,T) :- holds(Lit, T+1), not holds(Lit, T), time(T).\n",
    "%#show lit_transit/2.\n",
    "\n",
    "lit_ensures(Lit, T1, T) :- holds(Lit, T), lit_transit(Lit,T1), T1 < T, time(T), time(T1).\n",
    "% # minimize { T1 : lit_ensure(Lit,T1,T)} PROBLEM with aggregate\n",
    "\n",
    "%#show lit_ensures/3.\n",
    "%#show theta_transit/1.\n",
    "\n",
    "o_supp(Lit, I, J) :- theta_transit(J), lit_ensures(Lit, I, J).\n",
    "%#show o_supp/3.\n",
    "\n",
    "remain(Lit,T) :- theta(Lit), not out_dir_eff(Lit,T), not out_ind_eff(Lit,T), time(T).\n",
    "%#show remain/2.\n",
    "\n",
    "o_init(Lit, T) :- remain(Lit,T), not o_supp(Lit,_,T).\n",
    "%#show o_init/2.\n",
    "\n",
    "\n",
    "\"\"\"\n",
    "basics2 = remain_ensure+basics\n",
    "run(basics2)"
   ]
  },
  {
   "cell_type": "markdown",
   "id": "a9eb8a64",
   "metadata": {},
   "source": [
    "### 2nd Explain"
   ]
  },
  {
   "cell_type": "code",
   "execution_count": 93,
   "id": "9ac270dd",
   "metadata": {},
   "outputs": [
    {
     "name": "stdout",
     "output_type": "stream",
     "text": [
      "Answer:\n",
      "o_supp(e,1,3) o_supp(d,2,3) o_init(a,1) o_init(b,1) o_init(c,1) o_init(d,1) o_init(f,1) o_init(a,2) o_init(b,2) o_init(c,2) o_init(e,2) o_init(f,2) o_init(f,3) o_init(a,4) o_init(b,4) o_init(c,4) o_init(d,4) o_init(e,4) o_init(f,4)\n",
      "\n"
     ]
    }
   ],
   "source": [
    "out2 = \"\"\"\n",
    "\n",
    "#show o_supp/3.\n",
    "#show o_init/2.\n",
    "\n",
    "\"\"\"\n",
    "\n",
    "second = out2+basics2\n",
    "run(second)"
   ]
  },
  {
   "cell_type": "markdown",
   "id": "7bc343df",
   "metadata": {},
   "source": [
    "### TSE"
   ]
  },
  {
   "cell_type": "code",
   "execution_count": 103,
   "id": "3194e9e9",
   "metadata": {},
   "outputs": [
    {
     "name": "stdout",
     "output_type": "stream",
     "text": [
      "Answer:\n",
      "prec(-e,1) prec(-d,2) prec(-a,3) prec(-c,3) prec(-a,1) prec(e,3) prec(f,3) lit_ensures(e,1,2) lit_ensures(e,1,3) lit_ensures(e,1,4) lit_ensures(d,2,3) lit_ensures(d,2,4) lit_ensures(a,3,4) lit_ensures(b,3,4) lit_ensures(c,3,4) t_supp(e,1,3) t_init(-e,1) t_init(-d,2) t_init(-a,3) t_init(-c,3) t_init(-a,1) t_init(f,3)\n",
      "\n"
     ]
    }
   ],
   "source": [
    "tse = \"\"\"\n",
    "\n",
    "prec(Lit, T) :- occ(Ev,T), caus(Ev, _, Id), cond(Id, Lit).\n",
    "prec(Lit, T) :- occ(Ev,T), impo(Ev,Id), cond(Id, -Lit).\n",
    "\n",
    "%#show prec/2.\n",
    "%#show lit_ensures/3.\n",
    "\n",
    "t_supp(Lit, I, J) :- prec(Lit, J), lit_ensures(Lit, I, J).\n",
    "%#show t_supp/3.\n",
    "\n",
    "t_init(Lit, J) :- prec(Lit, J), not t_supp(Lit, _, J).\n",
    "%#show t_init/2.\n",
    "\n",
    "\n",
    "\"\"\"\n",
    "\n",
    "basics3 = tse+basics2\n",
    "\n",
    "run(basics3)"
   ]
  },
  {
   "cell_type": "markdown",
   "id": "49a54eab",
   "metadata": {},
   "source": [
    "### 3rd Explain"
   ]
  },
  {
   "cell_type": "code",
   "execution_count": 104,
   "id": "3920708e",
   "metadata": {},
   "outputs": [
    {
     "name": "stdout",
     "output_type": "stream",
     "text": [
      "Answer:\n",
      "prec(-e,1) prec(-d,2) prec(-a,3) prec(-c,3) prec(-a,1) prec(e,3) prec(f,3) lit_ensures(e,1,2) lit_ensures(e,1,3) lit_ensures(e,1,4) lit_ensures(d,2,3) lit_ensures(d,2,4) lit_ensures(a,3,4) lit_ensures(b,3,4) lit_ensures(c,3,4) t_supp(e,1,3) t_init(-e,1) t_init(-d,2) t_init(-a,3) t_init(-c,3) t_init(-a,1) t_init(f,3)\n",
      "\n"
     ]
    }
   ],
   "source": [
    "out3 = \"\"\"\n",
    "\n",
    "#show t_supp/3.\n",
    "#show t_init/2.\n",
    "\n",
    "\"\"\"\n",
    "\n",
    "third = out3+basics3\n",
    "run(third)"
   ]
  },
  {
   "cell_type": "code",
   "execution_count": null,
   "id": "3ab8fc05",
   "metadata": {},
   "outputs": [],
   "source": []
  }
 ],
 "metadata": {
  "kernelspec": {
   "display_name": "Python 3 (ipykernel)",
   "language": "python",
   "name": "python3"
  },
  "language_info": {
   "codemirror_mode": {
    "name": "ipython",
    "version": 3
   },
   "file_extension": ".py",
   "mimetype": "text/x-python",
   "name": "python",
   "nbconvert_exporter": "python",
   "pygments_lexer": "ipython3",
   "version": "3.10.4"
  }
 },
 "nbformat": 4,
 "nbformat_minor": 5
}
