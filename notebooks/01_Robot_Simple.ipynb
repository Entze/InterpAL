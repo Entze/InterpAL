{
 "cells": [
  {
   "cell_type": "code",
   "execution_count": 1,
   "metadata": {
    "collapsed": true
   },
   "outputs": [],
   "source": [
    "import sys\n",
    "\n",
    "sys.path.append('..')\n",
    "\n",
    "from action_language_interpreter.action_language import *"
   ]
  },
  {
   "cell_type": "code",
   "execution_count": 2,
   "outputs": [],
   "source": [
    "events: Set[Event] = {\"wait\", \"move\"}"
   ],
   "metadata": {
    "collapsed": false,
    "pycharm": {
     "name": "#%%\n"
    }
   }
  },
  {
   "cell_type": "code",
   "execution_count": 3,
   "outputs": [],
   "source": [
    "p0 = FluentLiteral(\"position(0)\")\n",
    "p1 = FluentLiteral(\"position(1)\")\n",
    "p2 = FluentLiteral(\"position(2)\")\n",
    "b0 = FluentLiteral(\"battery(0)\")\n",
    "b1 = FluentLiteral(\"battery(1)\")\n",
    "b2 = FluentLiteral(\"battery(2)\")\n",
    "o = FluentLiteral(\"objective_reached\")"
   ],
   "metadata": {
    "collapsed": false,
    "pycharm": {
     "name": "#%%\n"
    }
   }
  },
  {
   "cell_type": "markdown",
   "source": [
    "## Manual Grounding"
   ],
   "metadata": {
    "collapsed": false,
    "pycharm": {
     "name": "#%% md\n"
    }
   }
  },
  {
   "cell_type": "code",
   "execution_count": 4,
   "outputs": [
    {
     "data": {
      "text/plain": "({move causes ¬battery(2) if battery(2), wait causes ¬battery(2) if battery(2), move causes battery(1) if battery(2), wait causes battery(0) if battery(0), move causes ¬position(1) if position(1), wait causes position(0) if position(0), wait causes position(1) if position(1), move causes ¬battery(1) if battery(1), move causes ¬position(0) if position(0), move causes position(1) if position(0), move causes position(2) if position(1), wait causes battery(1) if battery(2), move causes ¬position(2) if position(2), wait causes battery(0) if battery(1), move causes battery(0) if battery(1), wait causes position(2) if position(2), wait causes ¬battery(1) if battery(1)}, {¬objective_reached if ¬position(2), ¬position(1) if position(0), ¬battery(1) if battery(0), ¬battery(0) if battery(1), ¬battery(2) if battery(1), objective_reached if ¬objective_reached,position(2), ¬battery(0) if battery(2), ¬position(0) if position(2), ¬position(2) if position(0), ¬position(2) if position(1), ¬battery(2) if battery(0), ¬position(0) if position(1), ¬battery(1) if battery(2), ¬position(1) if position(2)}, {move impossible_if position(2), move impossible_if battery(0)})"
     },
     "execution_count": 4,
     "metadata": {},
     "output_type": "execute_result"
    }
   ],
   "source": [
    "AD = ActionDescription()\n",
    "AD.add_stmt_impossible_if(\"move\", b0) # Cannot move if battery is empty\n",
    "AD.add_stmt_impossible_if(\"move\", p2) # Cannot move once in the goal\n",
    "# Moving implies that the robot is no longer in position\n",
    "AD.add_stmt_causes_if(\"move\", ~p0, p0)\n",
    "AD.add_stmt_causes_if(\"move\", ~p1, p1)\n",
    "AD.add_stmt_causes_if(\"move\", ~p2, p2)\n",
    "# Moving or waiting implies that the battery level has changed\n",
    "AD.add_stmt_causes_if(\"move\", ~b1, b1)\n",
    "AD.add_stmt_causes_if(\"move\", ~b2, b2)\n",
    "AD.add_stmt_causes_if(\"wait\", ~b1, b1)\n",
    "AD.add_stmt_causes_if(\"wait\", ~b2, b2)\n",
    "# The battery reduces by for either moving or waiting\n",
    "AD.add_stmt_causes_if(\"wait\", b0, b0)\n",
    "AD.add_stmt_causes_if(\"move\", b0, b1)\n",
    "AD.add_stmt_causes_if(\"wait\", b0, b1)\n",
    "AD.add_stmt_causes_if(\"move\", b1, b2)\n",
    "AD.add_stmt_causes_if(\"wait\", b1, b2)\n",
    "# Moving changes the position by +1\n",
    "AD.add_stmt_causes_if(\"move\", p1, p0)\n",
    "AD.add_stmt_causes_if(\"move\", p2, p1)\n",
    "# Waiting does not change the position\n",
    "AD.add_stmt_causes_if(\"wait\", p0, p0)\n",
    "AD.add_stmt_causes_if(\"wait\", p1, p1)\n",
    "AD.add_stmt_causes_if(\"wait\", p2, p2)\n",
    "# The positions are mutually exclusive\n",
    "AD.add_stmt_if(~p0, p1)\n",
    "AD.add_stmt_if(~p0, p2)\n",
    "AD.add_stmt_if(~p1, p0)\n",
    "AD.add_stmt_if(~p1, p2)\n",
    "AD.add_stmt_if(~p2, p0)\n",
    "AD.add_stmt_if(~p2, p1)\n",
    "# The battery states are mutually exclusive\n",
    "AD.add_stmt_if(~b0, b1)\n",
    "AD.add_stmt_if(~b0, b2)\n",
    "AD.add_stmt_if(~b1, b0)\n",
    "AD.add_stmt_if(~b1, b2)\n",
    "AD.add_stmt_if(~b2, b0)\n",
    "AD.add_stmt_if(~b2, b1)\n",
    "# The objective is not reached if not on position 2\n",
    "AD.add_stmt_if(~o, ~p2)\n",
    "# The objective is reached if on position 2\n",
    "AD.add_stmt_if(o, p2, ~o)\n",
    "AD"
   ],
   "metadata": {
    "collapsed": false,
    "pycharm": {
     "name": "#%%\n"
    }
   }
  },
  {
   "cell_type": "markdown",
   "source": [
    "# Execution"
   ],
   "metadata": {
    "collapsed": false,
    "pycharm": {
     "name": "#%% md\n"
    }
   }
  },
  {
   "cell_type": "code",
   "execution_count": 5,
   "outputs": [
    {
     "data": {
      "text/plain": "{battery(2), position(0)}"
     },
     "execution_count": 5,
     "metadata": {},
     "output_type": "execute_result"
    }
   ],
   "source": [
    "initial_state = {p0, b2}\n",
    "initial_state"
   ],
   "metadata": {
    "collapsed": false,
    "pycharm": {
     "name": "#%%\n"
    }
   }
  },
  {
   "cell_type": "code",
   "execution_count": 6,
   "outputs": [
    {
     "data": {
      "text/plain": "({¬battery(0),\n  ¬battery(1),\n  battery(2),\n  ¬objective_reached,\n  position(0),\n  ¬position(1),\n  ¬position(2)},\n [¬position(1) if position(0),\n  ¬battery(0) if battery(2),\n  ¬position(2) if position(0),\n  ¬battery(1) if battery(2),\n  ¬objective_reached if ¬position(2)])"
     },
     "execution_count": 6,
     "metadata": {},
     "output_type": "execute_result"
    }
   ],
   "source": [
    "AD.comply(initial_state)"
   ],
   "metadata": {
    "collapsed": false,
    "pycharm": {
     "name": "#%%\n"
    }
   }
  },
  {
   "cell_type": "code",
   "execution_count": 7,
   "outputs": [
    {
     "data": {
      "text/plain": "({'move', 'wait'}, ())"
     },
     "execution_count": 7,
     "metadata": {},
     "output_type": "execute_result"
    }
   ],
   "source": [
    "AD.executable_events(initial_state, events)"
   ],
   "metadata": {
    "collapsed": false,
    "pycharm": {
     "name": "#%%\n"
    }
   }
  },
  {
   "cell_type": "markdown",
   "source": [
    "## Successfull Route"
   ],
   "metadata": {
    "collapsed": false,
    "pycharm": {
     "name": "#%% md\n"
    }
   }
  },
  {
   "cell_type": "code",
   "execution_count": 8,
   "outputs": [],
   "source": [
    "state1,relevant_stmt1 = AD.execute(initial_state, \"move\")"
   ],
   "metadata": {
    "collapsed": false,
    "pycharm": {
     "name": "#%%\n"
    }
   }
  },
  {
   "cell_type": "code",
   "execution_count": 9,
   "outputs": [
    {
     "data": {
      "text/plain": "{¬battery(0),\n battery(1),\n ¬battery(2),\n ¬objective_reached,\n ¬position(0),\n position(1),\n ¬position(2)}"
     },
     "execution_count": 9,
     "metadata": {},
     "output_type": "execute_result"
    }
   ],
   "source": [
    "state1"
   ],
   "metadata": {
    "collapsed": false,
    "pycharm": {
     "name": "#%%\n"
    }
   }
  },
  {
   "cell_type": "code",
   "execution_count": 10,
   "outputs": [
    {
     "data": {
      "text/plain": "[move causes ¬battery(2) if battery(2),\n move causes battery(1) if battery(2),\n move causes ¬position(0) if position(0),\n move causes position(1) if position(0),\n ¬battery(0) if battery(1),\n ¬battery(2) if battery(1),\n ¬position(2) if position(1),\n ¬position(0) if position(1),\n ¬objective_reached if ¬position(2)]"
     },
     "execution_count": 10,
     "metadata": {},
     "output_type": "execute_result"
    }
   ],
   "source": [
    "relevant_stmt1"
   ],
   "metadata": {
    "collapsed": false,
    "pycharm": {
     "name": "#%%\n"
    }
   }
  },
  {
   "cell_type": "code",
   "execution_count": 11,
   "outputs": [
    {
     "data": {
      "text/plain": "({'move', 'wait'}, ())"
     },
     "execution_count": 11,
     "metadata": {},
     "output_type": "execute_result"
    }
   ],
   "source": [
    "AD.executable_events(state1, events)"
   ],
   "metadata": {
    "collapsed": false,
    "pycharm": {
     "name": "#%%\n"
    }
   }
  },
  {
   "cell_type": "code",
   "execution_count": 12,
   "outputs": [],
   "source": [
    "state2, relevant_stmt2 = AD.execute(state1, \"move\")"
   ],
   "metadata": {
    "collapsed": false,
    "pycharm": {
     "name": "#%%\n"
    }
   }
  },
  {
   "cell_type": "code",
   "execution_count": 13,
   "outputs": [
    {
     "data": {
      "text/plain": "{battery(0),\n ¬battery(1),\n ¬battery(2),\n objective_reached,\n ¬position(0),\n ¬position(1),\n position(2)}"
     },
     "execution_count": 13,
     "metadata": {},
     "output_type": "execute_result"
    }
   ],
   "source": [
    "state2"
   ],
   "metadata": {
    "collapsed": false,
    "pycharm": {
     "name": "#%%\n"
    }
   }
  },
  {
   "cell_type": "code",
   "execution_count": 14,
   "outputs": [
    {
     "data": {
      "text/plain": "[move causes ¬position(1) if position(1),\n move causes ¬battery(1) if battery(1),\n move causes position(2) if position(1),\n move causes battery(0) if battery(1),\n ¬battery(1) if battery(0),\n objective_reached if ¬objective_reached,position(2),\n ¬position(0) if position(2),\n ¬battery(2) if battery(0),\n ¬position(1) if position(2)]"
     },
     "execution_count": 14,
     "metadata": {},
     "output_type": "execute_result"
    }
   ],
   "source": [
    "relevant_stmt2"
   ],
   "metadata": {
    "collapsed": false,
    "pycharm": {
     "name": "#%%\n"
    }
   }
  },
  {
   "cell_type": "code",
   "execution_count": 15,
   "outputs": [
    {
     "data": {
      "text/plain": "({'wait'}, (move impossible_if position(2), move impossible_if battery(0)))"
     },
     "execution_count": 15,
     "metadata": {},
     "output_type": "execute_result"
    }
   ],
   "source": [
    "AD.executable_events(state2, events)"
   ],
   "metadata": {
    "collapsed": false,
    "pycharm": {
     "name": "#%%\n"
    }
   }
  },
  {
   "cell_type": "markdown",
   "source": [
    "## Explanation"
   ],
   "metadata": {
    "collapsed": false,
    "pycharm": {
     "name": "#%% md\n"
    }
   }
  },
  {
   "cell_type": "code",
   "execution_count": 16,
   "outputs": [],
   "source": [
    "scenario_path = (initial_state,[(\"move\", state1),(\"move\", state2)])"
   ],
   "metadata": {
    "collapsed": false,
    "pycharm": {
     "name": "#%%\n"
    }
   }
  },
  {
   "cell_type": "markdown",
   "source": [
    "## First"
   ],
   "metadata": {
    "collapsed": false,
    "pycharm": {
     "name": "#%% md\n"
    }
   }
  },
  {
   "cell_type": "code",
   "execution_count": 17,
   "outputs": [],
   "source": [
    "direct_effects, indirect_effects = get_first_causal_explanation(action_description=AD, scenario_path=scenario_path, outcome={o}, transition_event=\"move\")"
   ],
   "metadata": {
    "collapsed": false,
    "pycharm": {
     "name": "#%%\n"
    }
   }
  },
  {
   "cell_type": "code",
   "execution_count": 18,
   "outputs": [
    {
     "data": {
      "text/plain": "{battery(0), ¬battery(1), ¬position(1), position(2)}"
     },
     "execution_count": 18,
     "metadata": {},
     "output_type": "execute_result"
    }
   ],
   "source": [
    "direct_effects"
   ],
   "metadata": {
    "collapsed": false,
    "pycharm": {
     "name": "#%%\n"
    }
   }
  },
  {
   "cell_type": "code",
   "execution_count": 19,
   "outputs": [
    {
     "data": {
      "text/plain": "{objective_reached}"
     },
     "execution_count": 19,
     "metadata": {},
     "output_type": "execute_result"
    }
   ],
   "source": [
    "indirect_effects"
   ],
   "metadata": {
    "collapsed": false,
    "pycharm": {
     "name": "#%%\n"
    }
   }
  },
  {
   "cell_type": "markdown",
   "source": [
    "## Second"
   ],
   "metadata": {
    "collapsed": false,
    "pycharm": {
     "name": "#%% md\n"
    }
   }
  },
  {
   "cell_type": "code",
   "execution_count": 20,
   "outputs": [],
   "source": [
    "supporting_literals, initial_literals = get_second_causal_explanation(scenario_path=scenario_path, effects=direct_effects | indirect_effects)"
   ],
   "metadata": {
    "collapsed": false,
    "pycharm": {
     "name": "#%%\n"
    }
   }
  },
  {
   "cell_type": "code",
   "execution_count": 21,
   "outputs": [
    {
     "data": {
      "text/plain": "{('move', ¬battery(2)), ('move', ¬position(0))}"
     },
     "execution_count": 21,
     "metadata": {},
     "output_type": "execute_result"
    }
   ],
   "source": [
    "supporting_literals"
   ],
   "metadata": {
    "collapsed": false,
    "pycharm": {
     "name": "#%%\n"
    }
   }
  },
  {
   "cell_type": "code",
   "execution_count": 22,
   "outputs": [
    {
     "data": {
      "text/plain": "set()"
     },
     "execution_count": 22,
     "metadata": {},
     "output_type": "execute_result"
    }
   ],
   "source": [
    "initial_literals"
   ],
   "metadata": {
    "collapsed": false,
    "pycharm": {
     "name": "#%%\n"
    }
   }
  },
  {
   "cell_type": "markdown",
   "source": [
    "## Third"
   ],
   "metadata": {
    "collapsed": false
   }
  },
  {
   "cell_type": "code",
   "execution_count": 23,
   "outputs": [],
   "source": [
    "supporting_events, uncaused_literals = get_third_causal_explanation(action_description=AD, scenario_path=scenario_path, outcome={o}, transition_event=\"move\")"
   ],
   "metadata": {
    "collapsed": false,
    "pycharm": {
     "name": "#%%\n"
    }
   }
  },
  {
   "cell_type": "code",
   "execution_count": 24,
   "outputs": [
    {
     "data": {
      "text/plain": "{('move', ¬battery(0)),\n ('move', battery(1)),\n ('move', position(1)),\n ('move', ¬position(2)),\n ('move', position(2))}"
     },
     "execution_count": 24,
     "metadata": {},
     "output_type": "execute_result"
    }
   ],
   "source": [
    "supporting_events"
   ],
   "metadata": {
    "collapsed": false,
    "pycharm": {
     "name": "#%%\n"
    }
   }
  },
  {
   "cell_type": "code",
   "execution_count": 25,
   "outputs": [
    {
     "data": {
      "text/plain": "{battery(2), position(0)}"
     },
     "execution_count": 25,
     "metadata": {},
     "output_type": "execute_result"
    }
   ],
   "source": [
    "uncaused_literals"
   ],
   "metadata": {
    "collapsed": false,
    "pycharm": {
     "name": "#%%\n"
    }
   }
  },
  {
   "cell_type": "markdown",
   "source": [
    "## Unsuccessfull Route"
   ],
   "metadata": {
    "collapsed": false,
    "pycharm": {
     "name": "#%% md\n"
    }
   }
  },
  {
   "cell_type": "code",
   "execution_count": 26,
   "outputs": [],
   "source": [
    "state1, relevant_stmt1 = AD.execute(initial_state, \"wait\")"
   ],
   "metadata": {
    "collapsed": false,
    "pycharm": {
     "name": "#%%\n"
    }
   }
  },
  {
   "cell_type": "code",
   "execution_count": 27,
   "outputs": [
    {
     "data": {
      "text/plain": "{¬battery(0),\n battery(1),\n ¬battery(2),\n ¬objective_reached,\n position(0),\n ¬position(1),\n ¬position(2)}"
     },
     "execution_count": 27,
     "metadata": {},
     "output_type": "execute_result"
    }
   ],
   "source": [
    "state1"
   ],
   "metadata": {
    "collapsed": false,
    "pycharm": {
     "name": "#%%\n"
    }
   }
  },
  {
   "cell_type": "code",
   "execution_count": 28,
   "outputs": [
    {
     "data": {
      "text/plain": "[wait causes ¬battery(2) if battery(2),\n wait causes position(0) if position(0),\n wait causes battery(1) if battery(2),\n ¬position(1) if position(0),\n ¬battery(0) if battery(1),\n ¬battery(2) if battery(1),\n ¬position(2) if position(0),\n ¬objective_reached if ¬position(2)]"
     },
     "execution_count": 28,
     "metadata": {},
     "output_type": "execute_result"
    }
   ],
   "source": [
    "relevant_stmt1"
   ],
   "metadata": {
    "collapsed": false,
    "pycharm": {
     "name": "#%%\n"
    }
   }
  },
  {
   "cell_type": "code",
   "execution_count": 29,
   "outputs": [
    {
     "data": {
      "text/plain": "({'move', 'wait'}, ())"
     },
     "execution_count": 29,
     "metadata": {},
     "output_type": "execute_result"
    }
   ],
   "source": [
    "AD.executable_events(state1, events)"
   ],
   "metadata": {
    "collapsed": false,
    "pycharm": {
     "name": "#%%\n"
    }
   }
  },
  {
   "cell_type": "code",
   "execution_count": 30,
   "outputs": [],
   "source": [
    "state2, relevant_stmt2 = AD.execute(state1, \"move\")"
   ],
   "metadata": {
    "collapsed": false,
    "pycharm": {
     "name": "#%%\n"
    }
   }
  },
  {
   "cell_type": "code",
   "execution_count": 31,
   "outputs": [
    {
     "data": {
      "text/plain": "{battery(0),\n ¬battery(1),\n ¬battery(2),\n ¬objective_reached,\n ¬position(0),\n position(1),\n ¬position(2)}"
     },
     "execution_count": 31,
     "metadata": {},
     "output_type": "execute_result"
    }
   ],
   "source": [
    "state2"
   ],
   "metadata": {
    "collapsed": false,
    "pycharm": {
     "name": "#%%\n"
    }
   }
  },
  {
   "cell_type": "code",
   "execution_count": 32,
   "outputs": [
    {
     "data": {
      "text/plain": "[move causes ¬battery(1) if battery(1),\n move causes ¬position(0) if position(0),\n move causes position(1) if position(0),\n move causes battery(0) if battery(1),\n ¬objective_reached if ¬position(2),\n ¬battery(1) if battery(0),\n ¬position(2) if position(1),\n ¬battery(2) if battery(0),\n ¬position(0) if position(1)]"
     },
     "execution_count": 32,
     "metadata": {},
     "output_type": "execute_result"
    }
   ],
   "source": [
    "relevant_stmt2"
   ],
   "metadata": {
    "collapsed": false,
    "pycharm": {
     "name": "#%%\n"
    }
   }
  },
  {
   "cell_type": "code",
   "execution_count": 33,
   "outputs": [
    {
     "data": {
      "text/plain": "({'wait'}, (move impossible_if battery(0),))"
     },
     "execution_count": 33,
     "metadata": {},
     "output_type": "execute_result"
    }
   ],
   "source": [
    "AD.executable_events(state2, events)"
   ],
   "metadata": {
    "collapsed": false,
    "pycharm": {
     "name": "#%%\n"
    }
   }
  },
  {
   "cell_type": "code",
   "execution_count": 34,
   "outputs": [],
   "source": [
    "scenario_path = (initial_state,[(\"wait\", state1),(\"move\", state2)])"
   ],
   "metadata": {
    "collapsed": false,
    "pycharm": {
     "name": "#%%\n"
    }
   }
  },
  {
   "cell_type": "code",
   "execution_count": 36,
   "outputs": [
    {
     "ename": "KeyboardInterrupt",
     "evalue": "",
     "output_type": "error",
     "traceback": [
      "\u001B[0;31m---------------------------------------------------------------------------\u001B[0m",
      "\u001B[0;31mKeyboardInterrupt\u001B[0m                         Traceback (most recent call last)",
      "Input \u001B[0;32mIn [36]\u001B[0m, in \u001B[0;36m<cell line: 1>\u001B[0;34m()\u001B[0m\n\u001B[0;32m----> 1\u001B[0m direct_effects, indirect_effects \u001B[38;5;241m=\u001B[39m \u001B[43mget_first_causal_explanation\u001B[49m\u001B[43m(\u001B[49m\u001B[43maction_description\u001B[49m\u001B[38;5;241;43m=\u001B[39;49m\u001B[43mAD\u001B[49m\u001B[43m,\u001B[49m\u001B[43m \u001B[49m\u001B[43mscenario_path\u001B[49m\u001B[38;5;241;43m=\u001B[39;49m\u001B[43mscenario_path\u001B[49m\u001B[43m,\u001B[49m\u001B[43m \u001B[49m\u001B[43moutcome\u001B[49m\u001B[38;5;241;43m=\u001B[39;49m\u001B[43m{\u001B[49m\u001B[38;5;241;43m~\u001B[39;49m\u001B[43mo\u001B[49m\u001B[43m,\u001B[49m\u001B[43m \u001B[49m\u001B[38;5;241;43m~\u001B[39;49m\u001B[43mp2\u001B[49m\u001B[43m}\u001B[49m\u001B[43m,\u001B[49m\u001B[43m \u001B[49m\u001B[43mtransition_event\u001B[49m\u001B[38;5;241;43m=\u001B[39;49m\u001B[38;5;124;43m\"\u001B[39;49m\u001B[38;5;124;43mmove\u001B[39;49m\u001B[38;5;124;43m\"\u001B[39;49m\u001B[43m)\u001B[49m\n",
      "File \u001B[0;32m~/Dev/ASP/InterpAL/action_language_interpreter/action_language.py:208\u001B[0m, in \u001B[0;36mget_effects\u001B[0;34m(action_description, scenario_path, outcome, transition_event)\u001B[0m\n\u001B[1;32m    206\u001B[0m     _, outcome \u001B[38;5;241m=\u001B[39m event_chain[\u001B[38;5;241m-\u001B[39m\u001B[38;5;241m1\u001B[39m]\n\u001B[1;32m    207\u001B[0m previous_state: State \u001B[38;5;241m=\u001B[39m initial_state\n\u001B[0;32m--> 208\u001B[0m \u001B[38;5;28;01mfor\u001B[39;00m (event, current_state) \u001B[38;5;129;01min\u001B[39;00m event_chain:\n\u001B[1;32m    209\u001B[0m     \u001B[38;5;28;01mif\u001B[39;00m transition_event \u001B[38;5;129;01mis\u001B[39;00m \u001B[38;5;28;01mNone\u001B[39;00m \u001B[38;5;129;01mor\u001B[39;00m transition_event \u001B[38;5;241m==\u001B[39m event:\n\u001B[1;32m    210\u001B[0m         \u001B[38;5;28;01mif\u001B[39;00m \u001B[38;5;129;01mnot\u001B[39;00m (outcome \u001B[38;5;241m<\u001B[39m\u001B[38;5;241m=\u001B[39m previous_state) \u001B[38;5;129;01mand\u001B[39;00m (outcome \u001B[38;5;241m<\u001B[39m\u001B[38;5;241m=\u001B[39m current_state):\n",
      "File \u001B[0;32m~/Dev/ASP/InterpAL/action_language_interpreter/action_language.py:208\u001B[0m, in \u001B[0;36mget_effects\u001B[0;34m(action_description, scenario_path, outcome, transition_event)\u001B[0m\n\u001B[1;32m    206\u001B[0m     _, outcome \u001B[38;5;241m=\u001B[39m event_chain[\u001B[38;5;241m-\u001B[39m\u001B[38;5;241m1\u001B[39m]\n\u001B[1;32m    207\u001B[0m previous_state: State \u001B[38;5;241m=\u001B[39m initial_state\n\u001B[0;32m--> 208\u001B[0m \u001B[38;5;28;01mfor\u001B[39;00m (event, current_state) \u001B[38;5;129;01min\u001B[39;00m event_chain:\n\u001B[1;32m    209\u001B[0m     \u001B[38;5;28;01mif\u001B[39;00m transition_event \u001B[38;5;129;01mis\u001B[39;00m \u001B[38;5;28;01mNone\u001B[39;00m \u001B[38;5;129;01mor\u001B[39;00m transition_event \u001B[38;5;241m==\u001B[39m event:\n\u001B[1;32m    210\u001B[0m         \u001B[38;5;28;01mif\u001B[39;00m \u001B[38;5;129;01mnot\u001B[39;00m (outcome \u001B[38;5;241m<\u001B[39m\u001B[38;5;241m=\u001B[39m previous_state) \u001B[38;5;129;01mand\u001B[39;00m (outcome \u001B[38;5;241m<\u001B[39m\u001B[38;5;241m=\u001B[39m current_state):\n",
      "File \u001B[0;32m~/.local/share/JetBrains/Toolbox/apps/PyCharm-P/ch-0/213.6777.50/plugins/python/helpers/pydev/_pydevd_bundle/pydevd_frame.py:884\u001B[0m, in \u001B[0;36mPyDBFrame.trace_dispatch\u001B[0;34m(self, frame, event, arg)\u001B[0m\n\u001B[1;32m    882\u001B[0m \u001B[38;5;28;01mif\u001B[39;00m is_line:\n\u001B[1;32m    883\u001B[0m     \u001B[38;5;28mself\u001B[39m\u001B[38;5;241m.\u001B[39mset_suspend(thread, step_cmd)\n\u001B[0;32m--> 884\u001B[0m     \u001B[38;5;28;43mself\u001B[39;49m\u001B[38;5;241;43m.\u001B[39;49m\u001B[43mdo_wait_suspend\u001B[49m\u001B[43m(\u001B[49m\u001B[43mthread\u001B[49m\u001B[43m,\u001B[49m\u001B[43m \u001B[49m\u001B[43mframe\u001B[49m\u001B[43m,\u001B[49m\u001B[43m \u001B[49m\u001B[43mevent\u001B[49m\u001B[43m,\u001B[49m\u001B[43m \u001B[49m\u001B[43marg\u001B[49m\u001B[43m)\u001B[49m\n\u001B[1;32m    885\u001B[0m \u001B[38;5;28;01melse\u001B[39;00m:  \u001B[38;5;66;03m# return event\u001B[39;00m\n\u001B[1;32m    886\u001B[0m     back \u001B[38;5;241m=\u001B[39m frame\u001B[38;5;241m.\u001B[39mf_back\n",
      "File \u001B[0;32m~/.local/share/JetBrains/Toolbox/apps/PyCharm-P/ch-0/213.6777.50/plugins/python/helpers/pydev/_pydevd_bundle/pydevd_frame.py:144\u001B[0m, in \u001B[0;36mPyDBFrame.do_wait_suspend\u001B[0;34m(self, *args, **kwargs)\u001B[0m\n\u001B[1;32m    143\u001B[0m \u001B[38;5;28;01mdef\u001B[39;00m \u001B[38;5;21mdo_wait_suspend\u001B[39m(\u001B[38;5;28mself\u001B[39m, \u001B[38;5;241m*\u001B[39margs, \u001B[38;5;241m*\u001B[39m\u001B[38;5;241m*\u001B[39mkwargs):\n\u001B[0;32m--> 144\u001B[0m     \u001B[38;5;28;43mself\u001B[39;49m\u001B[38;5;241;43m.\u001B[39;49m\u001B[43m_args\u001B[49m\u001B[43m[\u001B[49m\u001B[38;5;241;43m0\u001B[39;49m\u001B[43m]\u001B[49m\u001B[38;5;241;43m.\u001B[39;49m\u001B[43mdo_wait_suspend\u001B[49m\u001B[43m(\u001B[49m\u001B[38;5;241;43m*\u001B[39;49m\u001B[43margs\u001B[49m\u001B[43m,\u001B[49m\u001B[43m \u001B[49m\u001B[38;5;241;43m*\u001B[39;49m\u001B[38;5;241;43m*\u001B[39;49m\u001B[43mkwargs\u001B[49m\u001B[43m)\u001B[49m\n",
      "File \u001B[0;32m~/.local/share/JetBrains/Toolbox/apps/PyCharm-P/ch-0/213.6777.50/plugins/python/helpers/pydev/pydevd.py:1147\u001B[0m, in \u001B[0;36mPyDB.do_wait_suspend\u001B[0;34m(self, thread, frame, event, arg, send_suspend_message, is_unhandled_exception)\u001B[0m\n\u001B[1;32m   1144\u001B[0m         from_this_thread\u001B[38;5;241m.\u001B[39mappend(frame_id)\n\u001B[1;32m   1146\u001B[0m \u001B[38;5;28;01mwith\u001B[39;00m \u001B[38;5;28mself\u001B[39m\u001B[38;5;241m.\u001B[39m_threads_suspended_single_notification\u001B[38;5;241m.\u001B[39mnotify_thread_suspended(thread_id, stop_reason):\n\u001B[0;32m-> 1147\u001B[0m     \u001B[38;5;28;43mself\u001B[39;49m\u001B[38;5;241;43m.\u001B[39;49m\u001B[43m_do_wait_suspend\u001B[49m\u001B[43m(\u001B[49m\u001B[43mthread\u001B[49m\u001B[43m,\u001B[49m\u001B[43m \u001B[49m\u001B[43mframe\u001B[49m\u001B[43m,\u001B[49m\u001B[43m \u001B[49m\u001B[43mevent\u001B[49m\u001B[43m,\u001B[49m\u001B[43m \u001B[49m\u001B[43marg\u001B[49m\u001B[43m,\u001B[49m\u001B[43m \u001B[49m\u001B[43msuspend_type\u001B[49m\u001B[43m,\u001B[49m\u001B[43m \u001B[49m\u001B[43mfrom_this_thread\u001B[49m\u001B[43m)\u001B[49m\n",
      "File \u001B[0;32m~/.local/share/JetBrains/Toolbox/apps/PyCharm-P/ch-0/213.6777.50/plugins/python/helpers/pydev/pydevd.py:1162\u001B[0m, in \u001B[0;36mPyDB._do_wait_suspend\u001B[0;34m(self, thread, frame, event, arg, suspend_type, from_this_thread)\u001B[0m\n\u001B[1;32m   1159\u001B[0m             \u001B[38;5;28mself\u001B[39m\u001B[38;5;241m.\u001B[39m_call_mpl_hook()\n\u001B[1;32m   1161\u001B[0m         \u001B[38;5;28mself\u001B[39m\u001B[38;5;241m.\u001B[39mprocess_internal_commands()\n\u001B[0;32m-> 1162\u001B[0m         \u001B[43mtime\u001B[49m\u001B[38;5;241;43m.\u001B[39;49m\u001B[43msleep\u001B[49m\u001B[43m(\u001B[49m\u001B[38;5;241;43m0.01\u001B[39;49m\u001B[43m)\u001B[49m\n\u001B[1;32m   1164\u001B[0m \u001B[38;5;28mself\u001B[39m\u001B[38;5;241m.\u001B[39mcancel_async_evaluation(get_current_thread_id(thread), \u001B[38;5;28mstr\u001B[39m(\u001B[38;5;28mid\u001B[39m(frame)))\n\u001B[1;32m   1166\u001B[0m \u001B[38;5;66;03m# process any stepping instructions\u001B[39;00m\n",
      "\u001B[0;31mKeyboardInterrupt\u001B[0m: "
     ]
    }
   ],
   "source": [
    "direct_effects, indirect_effects = get_first_causal_explanation(action_description=AD, scenario_path=scenario_path, outcome={~o, ~p2}, transition_event=\"move\")"
   ],
   "metadata": {
    "collapsed": false,
    "pycharm": {
     "name": "#%%\n"
    }
   }
  },
  {
   "cell_type": "code",
   "execution_count": null,
   "outputs": [],
   "source": [
    "direct_effects"
   ],
   "metadata": {
    "collapsed": false,
    "pycharm": {
     "name": "#%%\n"
    }
   }
  },
  {
   "cell_type": "code",
   "execution_count": null,
   "outputs": [],
   "source": [
    "indirect_effects"
   ],
   "metadata": {
    "collapsed": false,
    "pycharm": {
     "name": "#%%\n"
    }
   }
  },
  {
   "cell_type": "code",
   "execution_count": null,
   "outputs": [],
   "source": [],
   "metadata": {
    "collapsed": false,
    "pycharm": {
     "name": "#%%\n"
    }
   }
  }
 ],
 "metadata": {
  "kernelspec": {
   "display_name": "Python 3",
   "language": "python",
   "name": "python3"
  },
  "language_info": {
   "codemirror_mode": {
    "name": "ipython",
    "version": 2
   },
   "file_extension": ".py",
   "mimetype": "text/x-python",
   "name": "python",
   "nbconvert_exporter": "python",
   "pygments_lexer": "ipython2",
   "version": "2.7.6"
  }
 },
 "nbformat": 4,
 "nbformat_minor": 0
}