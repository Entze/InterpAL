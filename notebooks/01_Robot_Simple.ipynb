{
 "cells": [
  {
   "cell_type": "code",
   "execution_count": 1,
   "metadata": {},
   "outputs": [],
   "source": [
    "import sys\n",
    "\n",
    "sys.path.append('..')\n",
    "\n",
    "from action_language_interpreter.action_language import *"
   ]
  },
  {
   "cell_type": "code",
   "execution_count": 2,
   "metadata": {
    "pycharm": {
     "name": "#%%\n"
    }
   },
   "outputs": [],
   "source": [
    "events: Set[Event] = {\"wait\", \"move\"}"
   ]
  },
  {
   "cell_type": "code",
   "execution_count": 3,
   "metadata": {
    "pycharm": {
     "name": "#%%\n"
    }
   },
   "outputs": [],
   "source": [
    "p0 = FluentLiteral(\"position(0)\")\n",
    "p1 = FluentLiteral(\"position(1)\")\n",
    "p2 = FluentLiteral(\"position(2)\")\n",
    "b0 = FluentLiteral(\"battery(0)\")\n",
    "b1 = FluentLiteral(\"battery(1)\")\n",
    "b2 = FluentLiteral(\"battery(2)\")\n",
    "o = FluentLiteral(\"objective_reached\")"
   ]
  },
  {
   "cell_type": "markdown",
   "metadata": {
    "pycharm": {
     "name": "#%% md\n"
    }
   },
   "source": [
    "## Manual Grounding"
   ]
  },
  {
   "cell_type": "code",
   "execution_count": 4,
   "metadata": {
    "pycharm": {
     "name": "#%%\n"
    }
   },
   "outputs": [
    {
     "data": {
      "text/plain": [
       "({move causes ¬battery(2) if battery(2), wait causes ¬battery(2) if battery(2), move causes ¬battery(1) if battery(1), move causes position(2) if position(1), wait causes ¬battery(1) if battery(1), wait causes battery(0) if battery(1), move causes ¬position(2) if position(2), wait causes position(2) if position(2), move causes ¬position(1) if position(1), wait causes position(1) if position(1), move causes ¬position(0) if position(0), wait causes battery(0) if battery(0), move causes position(1) if position(0), move causes battery(1) if battery(2), wait causes battery(1) if battery(2), wait causes position(0) if position(0), move causes battery(0) if battery(1)}, {¬position(1) if position(2), ¬battery(1) if battery(0), ¬position(2) if position(1), ¬battery(2) if battery(1), ¬position(0) if position(1), ¬position(0) if position(2), ¬position(1) if position(0), ¬battery(0) if battery(2), ¬position(2) if position(0), ¬battery(1) if battery(2), ¬objective_reached if ¬position(2), ¬battery(2) if battery(0), ¬battery(0) if battery(1), objective_reached if position(2),¬objective_reached}, {move impossible_if position(2), move impossible_if battery(0)})"
      ]
     },
     "execution_count": 4,
     "metadata": {},
     "output_type": "execute_result"
    }
   ],
   "source": [
    "AD = ActionDescription()\n",
    "AD.add_stmt_impossible_if(\"move\", b0) # Cannot move if battery is empty\n",
    "AD.add_stmt_impossible_if(\"move\", p2) # Cannot move once in the goal\n",
    "# Moving implies that the robot is no longer in position\n",
    "AD.add_stmt_causes_if(\"move\", ~p0, p0)\n",
    "AD.add_stmt_causes_if(\"move\", ~p1, p1)\n",
    "AD.add_stmt_causes_if(\"move\", ~p2, p2)\n",
    "# Moving or waiting implies that the battery level has changed\n",
    "AD.add_stmt_causes_if(\"move\", ~b1, b1)\n",
    "AD.add_stmt_causes_if(\"move\", ~b2, b2)\n",
    "AD.add_stmt_causes_if(\"wait\", ~b1, b1)\n",
    "AD.add_stmt_causes_if(\"wait\", ~b2, b2)\n",
    "# The battery reduces by for either moving or waiting\n",
    "AD.add_stmt_causes_if(\"wait\", b0, b0)\n",
    "AD.add_stmt_causes_if(\"move\", b0, b1)\n",
    "AD.add_stmt_causes_if(\"wait\", b0, b1)\n",
    "AD.add_stmt_causes_if(\"move\", b1, b2)\n",
    "AD.add_stmt_causes_if(\"wait\", b1, b2)\n",
    "# Moving changes the position by +1\n",
    "AD.add_stmt_causes_if(\"move\", p1, p0)\n",
    "AD.add_stmt_causes_if(\"move\", p2, p1)\n",
    "# Waiting does not change the position\n",
    "AD.add_stmt_causes_if(\"wait\", p0, p0)\n",
    "AD.add_stmt_causes_if(\"wait\", p1, p1)\n",
    "AD.add_stmt_causes_if(\"wait\", p2, p2)\n",
    "# The positions are mutually exclusive\n",
    "AD.add_stmt_if(~p0, p1)\n",
    "AD.add_stmt_if(~p0, p2)\n",
    "AD.add_stmt_if(~p1, p0)\n",
    "AD.add_stmt_if(~p1, p2)\n",
    "AD.add_stmt_if(~p2, p0)\n",
    "AD.add_stmt_if(~p2, p1)\n",
    "# The battery states are mutually exclusive\n",
    "AD.add_stmt_if(~b0, b1)\n",
    "AD.add_stmt_if(~b0, b2)\n",
    "AD.add_stmt_if(~b1, b0)\n",
    "AD.add_stmt_if(~b1, b2)\n",
    "AD.add_stmt_if(~b2, b0)\n",
    "AD.add_stmt_if(~b2, b1)\n",
    "# The objective is not reached if not on position 2\n",
    "AD.add_stmt_if(~o, ~p2)\n",
    "# The objective is reached if on position 2\n",
    "AD.add_stmt_if(o, p2, ~o)\n",
    "AD"
   ]
  },
  {
   "cell_type": "markdown",
   "metadata": {
    "pycharm": {
     "name": "#%% md\n"
    }
   },
   "source": [
    "# Execution"
   ]
  },
  {
   "cell_type": "code",
   "execution_count": 5,
   "metadata": {
    "pycharm": {
     "name": "#%%\n"
    }
   },
   "outputs": [
    {
     "data": {
      "text/plain": [
       "{battery(2), position(0)}"
      ]
     },
     "execution_count": 5,
     "metadata": {},
     "output_type": "execute_result"
    }
   ],
   "source": [
    "initial_state = {p0, b2}\n",
    "initial_state"
   ]
  },
  {
   "cell_type": "code",
   "execution_count": 6,
   "metadata": {
    "pycharm": {
     "name": "#%%\n"
    }
   },
   "outputs": [
    {
     "data": {
      "text/plain": [
       "({¬battery(0),\n",
       "  ¬battery(1),\n",
       "  battery(2),\n",
       "  ¬objective_reached,\n",
       "  position(0),\n",
       "  ¬position(1),\n",
       "  ¬position(2)},\n",
       " [¬position(1) if position(0),\n",
       "  ¬battery(0) if battery(2),\n",
       "  ¬position(2) if position(0),\n",
       "  ¬battery(1) if battery(2),\n",
       "  ¬objective_reached if ¬position(2)])"
      ]
     },
     "execution_count": 6,
     "metadata": {},
     "output_type": "execute_result"
    }
   ],
   "source": [
    "AD.comply(initial_state)"
   ]
  },
  {
   "cell_type": "code",
   "execution_count": 7,
   "metadata": {
    "pycharm": {
     "name": "#%%\n"
    }
   },
   "outputs": [
    {
     "data": {
      "text/plain": [
       "({'move', 'wait'}, ())"
      ]
     },
     "execution_count": 7,
     "metadata": {},
     "output_type": "execute_result"
    }
   ],
   "source": [
    "AD.executable_events(initial_state, events)"
   ]
  },
  {
   "cell_type": "markdown",
   "metadata": {
    "pycharm": {
     "name": "#%% md\n"
    }
   },
   "source": [
    "## Successfull Route"
   ]
  },
  {
   "cell_type": "code",
   "execution_count": 8,
   "metadata": {
    "pycharm": {
     "name": "#%%\n"
    }
   },
   "outputs": [],
   "source": [
    "state1,relevant_stmt1 = AD.execute(initial_state, \"move\")"
   ]
  },
  {
   "cell_type": "code",
   "execution_count": 9,
   "metadata": {
    "pycharm": {
     "name": "#%%\n"
    }
   },
   "outputs": [
    {
     "data": {
      "text/plain": [
       "{¬battery(0),\n",
       " battery(1),\n",
       " ¬battery(2),\n",
       " ¬objective_reached,\n",
       " ¬position(0),\n",
       " position(1),\n",
       " ¬position(2)}"
      ]
     },
     "execution_count": 9,
     "metadata": {},
     "output_type": "execute_result"
    }
   ],
   "source": [
    "state1"
   ]
  },
  {
   "cell_type": "code",
   "execution_count": 10,
   "metadata": {
    "pycharm": {
     "name": "#%%\n"
    }
   },
   "outputs": [
    {
     "data": {
      "text/plain": [
       "[move causes ¬battery(2) if battery(2),\n",
       " move causes ¬position(0) if position(0),\n",
       " move causes position(1) if position(0),\n",
       " move causes battery(1) if battery(2),\n",
       " ¬position(2) if position(1),\n",
       " ¬battery(2) if battery(1),\n",
       " ¬position(0) if position(1),\n",
       " ¬objective_reached if ¬position(2),\n",
       " ¬battery(0) if battery(1)]"
      ]
     },
     "execution_count": 10,
     "metadata": {},
     "output_type": "execute_result"
    }
   ],
   "source": [
    "relevant_stmt1"
   ]
  },
  {
   "cell_type": "code",
   "execution_count": 11,
   "metadata": {
    "pycharm": {
     "name": "#%%\n"
    }
   },
   "outputs": [
    {
     "data": {
      "text/plain": [
       "({'move', 'wait'}, ())"
      ]
     },
     "execution_count": 11,
     "metadata": {},
     "output_type": "execute_result"
    }
   ],
   "source": [
    "AD.executable_events(state1, events)"
   ]
  },
  {
   "cell_type": "code",
   "execution_count": 12,
   "metadata": {
    "pycharm": {
     "name": "#%%\n"
    }
   },
   "outputs": [],
   "source": [
    "state2, relevant_stmt2 = AD.execute(state1, \"move\")"
   ]
  },
  {
   "cell_type": "code",
   "execution_count": 13,
   "metadata": {
    "pycharm": {
     "name": "#%%\n"
    }
   },
   "outputs": [
    {
     "data": {
      "text/plain": [
       "{battery(0),\n",
       " ¬battery(1),\n",
       " ¬battery(2),\n",
       " objective_reached,\n",
       " ¬position(0),\n",
       " ¬position(1),\n",
       " position(2)}"
      ]
     },
     "execution_count": 13,
     "metadata": {},
     "output_type": "execute_result"
    }
   ],
   "source": [
    "state2"
   ]
  },
  {
   "cell_type": "code",
   "execution_count": 14,
   "metadata": {
    "pycharm": {
     "name": "#%%\n"
    }
   },
   "outputs": [
    {
     "data": {
      "text/plain": [
       "[move causes ¬battery(1) if battery(1),\n",
       " move causes position(2) if position(1),\n",
       " move causes ¬position(1) if position(1),\n",
       " move causes battery(0) if battery(1),\n",
       " ¬position(1) if position(2),\n",
       " ¬battery(1) if battery(0),\n",
       " ¬position(0) if position(2),\n",
       " ¬battery(2) if battery(0),\n",
       " objective_reached if position(2),¬objective_reached]"
      ]
     },
     "execution_count": 14,
     "metadata": {},
     "output_type": "execute_result"
    }
   ],
   "source": [
    "relevant_stmt2"
   ]
  },
  {
   "cell_type": "code",
   "execution_count": 15,
   "metadata": {
    "pycharm": {
     "name": "#%%\n"
    }
   },
   "outputs": [
    {
     "data": {
      "text/plain": [
       "({'wait'}, (move impossible_if position(2), move impossible_if battery(0)))"
      ]
     },
     "execution_count": 15,
     "metadata": {},
     "output_type": "execute_result"
    }
   ],
   "source": [
    "AD.executable_events(state2, events)"
   ]
  },
  {
   "cell_type": "markdown",
   "metadata": {
    "pycharm": {
     "name": "#%% md\n"
    }
   },
   "source": [
    "## Explanation"
   ]
  },
  {
   "cell_type": "code",
   "execution_count": 16,
   "metadata": {
    "pycharm": {
     "name": "#%%\n"
    }
   },
   "outputs": [],
   "source": [
    "scenario_path = (initial_state,[(\"move\", state1),(\"move\", state2)])"
   ]
  },
  {
   "cell_type": "markdown",
   "metadata": {
    "pycharm": {
     "name": "#%% md\n"
    }
   },
   "source": [
    "## First"
   ]
  },
  {
   "cell_type": "code",
   "execution_count": 17,
   "metadata": {
    "pycharm": {
     "name": "#%%\n"
    }
   },
   "outputs": [],
   "source": [
    "direct_effects, indirect_effects = get_first_causal_explanation(action_description=AD, scenario_path=scenario_path, outcome={o}, transition_event=\"move\")"
   ]
  },
  {
   "cell_type": "code",
   "execution_count": 18,
   "metadata": {
    "pycharm": {
     "name": "#%%\n"
    }
   },
   "outputs": [
    {
     "data": {
      "text/plain": [
       "{battery(0), ¬battery(1), ¬position(1), position(2)}"
      ]
     },
     "execution_count": 18,
     "metadata": {},
     "output_type": "execute_result"
    }
   ],
   "source": [
    "direct_effects"
   ]
  },
  {
   "cell_type": "code",
   "execution_count": 19,
   "metadata": {
    "pycharm": {
     "name": "#%%\n"
    }
   },
   "outputs": [
    {
     "data": {
      "text/plain": [
       "{objective_reached}"
      ]
     },
     "execution_count": 19,
     "metadata": {},
     "output_type": "execute_result"
    }
   ],
   "source": [
    "indirect_effects"
   ]
  },
  {
   "cell_type": "markdown",
   "metadata": {
    "pycharm": {
     "name": "#%% md\n"
    }
   },
   "source": [
    "## Second"
   ]
  },
  {
   "cell_type": "code",
   "execution_count": 20,
   "metadata": {
    "pycharm": {
     "name": "#%%\n"
    }
   },
   "outputs": [],
   "source": [
    "supporting_literals, initial_literals = get_second_causal_explanation(scenario_path=scenario_path, effects=direct_effects | indirect_effects)"
   ]
  },
  {
   "cell_type": "code",
   "execution_count": 21,
   "metadata": {
    "pycharm": {
     "name": "#%%\n"
    }
   },
   "outputs": [
    {
     "data": {
      "text/plain": [
       "{('move', ¬battery(2)), ('move', ¬position(0))}"
      ]
     },
     "execution_count": 21,
     "metadata": {},
     "output_type": "execute_result"
    }
   ],
   "source": [
    "supporting_literals"
   ]
  },
  {
   "cell_type": "code",
   "execution_count": 22,
   "metadata": {
    "pycharm": {
     "name": "#%%\n"
    }
   },
   "outputs": [
    {
     "data": {
      "text/plain": [
       "set()"
      ]
     },
     "execution_count": 22,
     "metadata": {},
     "output_type": "execute_result"
    }
   ],
   "source": [
    "initial_literals"
   ]
  },
  {
   "cell_type": "markdown",
   "metadata": {},
   "source": [
    "## Third"
   ]
  },
  {
   "cell_type": "code",
   "execution_count": 23,
   "metadata": {
    "pycharm": {
     "name": "#%%\n"
    }
   },
   "outputs": [],
   "source": [
    "supporting_events, uncaused_literals = get_third_causal_explanation(action_description=AD, scenario_path=scenario_path, outcome={o}, transition_event=\"move\")"
   ]
  },
  {
   "cell_type": "code",
   "execution_count": 24,
   "metadata": {
    "pycharm": {
     "name": "#%%\n"
    }
   },
   "outputs": [
    {
     "data": {
      "text/plain": [
       "{('move', ¬battery(0)),\n",
       " ('move', battery(1)),\n",
       " ('move', position(1)),\n",
       " ('move', ¬position(2)),\n",
       " ('move', position(2))}"
      ]
     },
     "execution_count": 24,
     "metadata": {},
     "output_type": "execute_result"
    }
   ],
   "source": [
    "supporting_events"
   ]
  },
  {
   "cell_type": "code",
   "execution_count": 25,
   "metadata": {
    "pycharm": {
     "name": "#%%\n"
    }
   },
   "outputs": [
    {
     "data": {
      "text/plain": [
       "{battery(2), position(0)}"
      ]
     },
     "execution_count": 25,
     "metadata": {},
     "output_type": "execute_result"
    }
   ],
   "source": [
    "uncaused_literals"
   ]
  },
  {
   "cell_type": "markdown",
   "metadata": {
    "pycharm": {
     "name": "#%% md\n"
    }
   },
   "source": [
    "## Unsuccessfull Route"
   ]
  },
  {
   "cell_type": "code",
   "execution_count": 26,
   "metadata": {
    "pycharm": {
     "name": "#%%\n"
    }
   },
   "outputs": [],
   "source": [
    "state1, relevant_stmt1 = AD.execute(initial_state, \"wait\")"
   ]
  },
  {
   "cell_type": "code",
   "execution_count": 27,
   "metadata": {
    "pycharm": {
     "name": "#%%\n"
    }
   },
   "outputs": [
    {
     "data": {
      "text/plain": [
       "{¬battery(0),\n",
       " battery(1),\n",
       " ¬battery(2),\n",
       " ¬objective_reached,\n",
       " position(0),\n",
       " ¬position(1),\n",
       " ¬position(2)}"
      ]
     },
     "execution_count": 27,
     "metadata": {},
     "output_type": "execute_result"
    }
   ],
   "source": [
    "state1"
   ]
  },
  {
   "cell_type": "code",
   "execution_count": 28,
   "metadata": {
    "pycharm": {
     "name": "#%%\n"
    }
   },
   "outputs": [
    {
     "data": {
      "text/plain": [
       "[wait causes ¬battery(2) if battery(2),\n",
       " wait causes battery(1) if battery(2),\n",
       " wait causes position(0) if position(0),\n",
       " ¬battery(2) if battery(1),\n",
       " ¬position(1) if position(0),\n",
       " ¬position(2) if position(0),\n",
       " ¬objective_reached if ¬position(2),\n",
       " ¬battery(0) if battery(1)]"
      ]
     },
     "execution_count": 28,
     "metadata": {},
     "output_type": "execute_result"
    }
   ],
   "source": [
    "relevant_stmt1"
   ]
  },
  {
   "cell_type": "code",
   "execution_count": 29,
   "metadata": {
    "pycharm": {
     "name": "#%%\n"
    }
   },
   "outputs": [
    {
     "data": {
      "text/plain": [
       "({'move', 'wait'}, ())"
      ]
     },
     "execution_count": 29,
     "metadata": {},
     "output_type": "execute_result"
    }
   ],
   "source": [
    "AD.executable_events(state1, events)"
   ]
  },
  {
   "cell_type": "code",
   "execution_count": 30,
   "metadata": {
    "pycharm": {
     "name": "#%%\n"
    }
   },
   "outputs": [],
   "source": [
    "state2, relevant_stmt2 = AD.execute(state1, \"move\")"
   ]
  },
  {
   "cell_type": "code",
   "execution_count": 31,
   "metadata": {
    "pycharm": {
     "name": "#%%\n"
    }
   },
   "outputs": [
    {
     "data": {
      "text/plain": [
       "{battery(0),\n",
       " ¬battery(1),\n",
       " ¬battery(2),\n",
       " ¬objective_reached,\n",
       " ¬position(0),\n",
       " position(1),\n",
       " ¬position(2)}"
      ]
     },
     "execution_count": 31,
     "metadata": {},
     "output_type": "execute_result"
    }
   ],
   "source": [
    "state2"
   ]
  },
  {
   "cell_type": "code",
   "execution_count": 32,
   "metadata": {
    "pycharm": {
     "name": "#%%\n"
    }
   },
   "outputs": [
    {
     "data": {
      "text/plain": [
       "[move causes ¬battery(1) if battery(1),\n",
       " move causes ¬position(0) if position(0),\n",
       " move causes position(1) if position(0),\n",
       " move causes battery(0) if battery(1),\n",
       " ¬battery(1) if battery(0),\n",
       " ¬position(2) if position(1),\n",
       " ¬position(0) if position(1),\n",
       " ¬objective_reached if ¬position(2),\n",
       " ¬battery(2) if battery(0)]"
      ]
     },
     "execution_count": 32,
     "metadata": {},
     "output_type": "execute_result"
    }
   ],
   "source": [
    "relevant_stmt2"
   ]
  },
  {
   "cell_type": "code",
   "execution_count": 33,
   "metadata": {
    "pycharm": {
     "name": "#%%\n"
    }
   },
   "outputs": [
    {
     "data": {
      "text/plain": [
       "({'wait'}, (move impossible_if battery(0),))"
      ]
     },
     "execution_count": 33,
     "metadata": {},
     "output_type": "execute_result"
    }
   ],
   "source": [
    "AD.executable_events(state2, events)"
   ]
  },
  {
   "cell_type": "code",
   "execution_count": 34,
   "metadata": {
    "pycharm": {
     "name": "#%%\n"
    }
   },
   "outputs": [],
   "source": [
    "scenario_path = (initial_state,[(\"wait\", state1),(\"move\", state2)])"
   ]
  },
  {
   "cell_type": "code",
   "execution_count": 35,
   "metadata": {
    "pycharm": {
     "name": "#%%\n"
    }
   },
   "outputs": [
    {
     "ename": "TypeError",
     "evalue": "cannot unpack non-iterable NoneType object",
     "output_type": "error",
     "traceback": [
      "\u001b[1;31m---------------------------------------------------------------------------\u001b[0m",
      "\u001b[1;31mTypeError\u001b[0m                                 Traceback (most recent call last)",
      "Input \u001b[1;32mIn [35]\u001b[0m, in \u001b[0;36m<cell line: 1>\u001b[1;34m()\u001b[0m\n\u001b[1;32m----> 1\u001b[0m direct_effects, indirect_effects \u001b[38;5;241m=\u001b[39m get_first_causal_explanation(action_description\u001b[38;5;241m=\u001b[39mAD, scenario_path\u001b[38;5;241m=\u001b[39mscenario_path, outcome\u001b[38;5;241m=\u001b[39m{\u001b[38;5;241m~\u001b[39mo, \u001b[38;5;241m~\u001b[39mp2}, transition_event\u001b[38;5;241m=\u001b[39m\u001b[38;5;124m\"\u001b[39m\u001b[38;5;124mmove\u001b[39m\u001b[38;5;124m\"\u001b[39m)\n",
      "\u001b[1;31mTypeError\u001b[0m: cannot unpack non-iterable NoneType object"
     ]
    }
   ],
   "source": [
    "direct_effects, indirect_effects = get_first_causal_explanation(action_description=AD, scenario_path=scenario_path, outcome={~o, ~p2}, transition_event=\"move\")"
   ]
  },
  {
   "cell_type": "code",
   "execution_count": null,
   "metadata": {
    "pycharm": {
     "name": "#%%\n"
    }
   },
   "outputs": [],
   "source": [
    "direct_effects"
   ]
  },
  {
   "cell_type": "code",
   "execution_count": null,
   "metadata": {
    "pycharm": {
     "name": "#%%\n"
    }
   },
   "outputs": [],
   "source": [
    "indirect_effects"
   ]
  },
  {
   "cell_type": "code",
   "execution_count": null,
   "metadata": {
    "pycharm": {
     "name": "#%%\n"
    }
   },
   "outputs": [],
   "source": []
  }
 ],
 "metadata": {
  "kernelspec": {
   "display_name": "Python 3 (ipykernel)",
   "language": "python",
   "name": "python3"
  },
  "language_info": {
   "codemirror_mode": {
    "name": "ipython",
    "version": 3
   },
   "file_extension": ".py",
   "mimetype": "text/x-python",
   "name": "python",
   "nbconvert_exporter": "python",
   "pygments_lexer": "ipython3",
   "version": "3.10.4"
  }
 },
 "nbformat": 4,
 "nbformat_minor": 1
}
